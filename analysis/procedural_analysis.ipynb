{
 "cells": [
  {
   "cell_type": "code",
   "execution_count": 2,
   "id": "99a94667",
   "metadata": {},
   "outputs": [],
   "source": [
    "import json\n",
    "import os\n",
    "import random\n",
    "import pandas as pd"
   ]
  },
  {
   "cell_type": "markdown",
   "metadata": {},
   "source": [
    "### WikiHow"
   ]
  },
  {
   "cell_type": "code",
   "execution_count": 19,
   "metadata": {},
   "outputs": [],
   "source": [
    "wikihow_dir = '/mount/arbeitsdaten/jp-silberer/ernie_vil/data/pkg_data/wikiHow'\n",
    "# What is the overlap between CAE tasks and WikiHow?\n",
    "\n",
    "with open(os.path.join(wikihow_dir, 'article_id_to_title.txt'), 'r') as f:\n",
    "    lines = f.readlines()\n",
    "    wikihow_tasks = [' '.join(l.split()[1:])for l in lines]    "
   ]
  },
  {
   "cell_type": "markdown",
   "id": "acb6f63f",
   "metadata": {},
   "source": [
    "### CAE"
   ]
  },
  {
   "cell_type": "code",
   "execution_count": 3,
   "id": "3de67d5d",
   "metadata": {},
   "outputs": [],
   "source": [
    "# data split ids\n",
    "exp = '100_per'\n",
    "exp_dir = f'/mount/arbeitsdaten/jp-silberer/ernie_vil/data/cae/single_result_verb_exp/42/txt_db/exp_{exp}'\n",
    "\n",
    "# video segment ids\n",
    "train_path = os.path.join(exp_dir, 'train_ids.json')\n",
    "val_path = os.path.join(exp_dir, 'val_ids.json')\n",
    "test_path = os.path.join(exp_dir, 'test_ids.json')\n",
    "\n",
    "train_ids = json.load(open(train_path, 'r'))\n",
    "val_ids = json.load(open(val_path, 'r'))\n",
    "test_ids = json.load(open(test_path, 'r'))"
   ]
  },
  {
   "cell_type": "code",
   "execution_count": 11,
   "id": "c0fec458",
   "metadata": {},
   "outputs": [],
   "source": [
    "data_by_vid_path = '/mount/arbeitsdaten/jp-silberer/ernie_vil/data/cae/subtitles/single_result_verbs_video_clips_by_vid.json'\n",
    "cae_by_vid = json.load(open(data_by_vid_path, 'r'))"
   ]
  },
  {
   "cell_type": "code",
   "execution_count": 4,
   "metadata": {},
   "outputs": [],
   "source": [
    "cae_path = '/mount/arbeitsdaten/jp-silberer/ernie_vil/data/cae/subtitles/cae.json'\n",
    "cae_by_vidseg = json.load(open(cae_path, 'r'))"
   ]
  },
  {
   "cell_type": "code",
   "execution_count": 13,
   "metadata": {},
   "outputs": [],
   "source": [
    "cae_vids = list(cae_by_vid.keys())"
   ]
  },
  {
   "cell_type": "code",
   "execution_count": 14,
   "metadata": {},
   "outputs": [],
   "source": [
    "# sanity check \n",
    "cae_vidsegs = set(cae_by_vidseg.keys())\n",
    "\n",
    "gather_vidsegs = set()\n",
    "for vid in cae_by_vid.keys():\n",
    "    for seg_id in cae_by_vid[vid].keys():\n",
    "        vidseg_id = vid + '_' + seg_id\n",
    "        gather_vidsegs.add(vidseg_id)\n",
    "        \n",
    "assert len(cae_vidsegs) == len(gather_vidsegs)"
   ]
  },
  {
   "cell_type": "code",
   "execution_count": 15,
   "metadata": {},
   "outputs": [
    {
     "name": "stdout",
     "output_type": "stream",
     "text": [
      "4190733\n",
      "4190733\n"
     ]
    }
   ],
   "source": [
    "print(len(cae_vidsegs))\n",
    "print(len(gather_vidsegs))"
   ]
  },
  {
   "cell_type": "code",
   "execution_count": 45,
   "metadata": {},
   "outputs": [],
   "source": [
    "# write function cae_by_vid to cae_by_vidseg\n",
    "# TODO: put in cae_dataset/prepare_cae.py\n",
    "vidseg2data = {}\n",
    "\n",
    "for vid in cae_by_vid.keys():\n",
    "    for seg_id in cae_by_vid[vid].keys():\n",
    "        vidseg_id = vid + '_' + seg_id\n",
    "        info = {\"vid\": vid,\n",
    "                \"vid seg\": cae_by_vid[vid][seg_id]['vid seg'],\n",
    "                \"time stamp\": cae_by_vid[vid][seg_id]['time stamp'],\n",
    "                \"caption\": cae_by_vid[vid][seg_id]['caption'],\n",
    "                \"domain\": cae_by_vid[vid][seg_id]['domain'],\n",
    "                \"frames\": cae_by_vid[vid][seg_id]['all_frames'],\n",
    "                \"verb\": cae_by_vid[vid][seg_id]['verbs'][0],\n",
    "                \"nouns\": cae_by_vid[vid][seg_id]['all_nouns'][0],\n",
    "               }\n",
    "        vidseg2data[vidseg_id] = info"
   ]
  },
  {
   "cell_type": "code",
   "execution_count": 12,
   "id": "b2aab105",
   "metadata": {},
   "outputs": [],
   "source": [
    "howto100m_dir = '/mount/arbeitsdaten/jp-silberer/ernie_vil/data/HowTo100M'\n",
    "howto_df = pd.read_csv(os.path.join(howto100m_dir, 'HowTo100M_v1.csv'))\n",
    "task_ids_df = pd.read_csv(os.path.join(howto100m_dir, 'task_ids.csv'), delimiter='\\t', names=['task_id', 'task_title'])"
   ]
  },
  {
   "cell_type": "code",
   "execution_count": 17,
   "id": "83c608c4",
   "metadata": {},
   "outputs": [],
   "source": [
    "# get task_id to task_title information\n",
    "taskid2title_df = pd.merge(howto_df, task_ids_df, on='task_id')\n",
    "\n",
    "# get all cae\n",
    "cae_taskid2title_df = taskid2title_df[taskid2title_df['video_id'].isin(cae_vids)]"
   ]
  },
  {
   "cell_type": "code",
   "execution_count": 22,
   "metadata": {},
   "outputs": [
    {
     "data": {
      "text/plain": [
       "False"
      ]
     },
     "execution_count": 22,
     "metadata": {},
     "output_type": "execute_result"
    }
   ],
   "source": [
    "cae_tasktitles = set(cae_taskid2title_df['task_title'].to_list())\n",
    "set(wikihow_tasks).issubset(cae_tasktitles)"
   ]
  },
  {
   "cell_type": "code",
   "execution_count": 24,
   "metadata": {},
   "outputs": [
    {
     "data": {
      "text/plain": [
       "set()"
      ]
     },
     "execution_count": 24,
     "metadata": {},
     "output_type": "execute_result"
    }
   ],
   "source": [
    "set(wikihow_tasks).intersection(cae_tasktitles)"
   ]
  },
  {
   "cell_type": "markdown",
   "id": "41cd7136",
   "metadata": {},
   "source": [
    "#### Prepare Task Table (for CAE test set)"
   ]
  },
  {
   "cell_type": "code",
   "execution_count": null,
   "metadata": {},
   "outputs": [],
   "source": [
    "# get a subset where the video ids are in the test set\n",
    "cae_test_taskid2title_df = taskid2title_df[taskid2title_df['video_id'].isin(test_vids)]"
   ]
  },
  {
   "cell_type": "code",
   "execution_count": 20,
   "metadata": {},
   "outputs": [
    {
     "data": {
      "text/html": [
       "<div>\n",
       "<style scoped>\n",
       "    .dataframe tbody tr th:only-of-type {\n",
       "        vertical-align: middle;\n",
       "    }\n",
       "\n",
       "    .dataframe tbody tr th {\n",
       "        vertical-align: top;\n",
       "    }\n",
       "\n",
       "    .dataframe thead th {\n",
       "        text-align: right;\n",
       "    }\n",
       "</style>\n",
       "<table border=\"1\" class=\"dataframe\">\n",
       "  <thead>\n",
       "    <tr style=\"text-align: right;\">\n",
       "      <th></th>\n",
       "      <th>video_id</th>\n",
       "      <th>category_1</th>\n",
       "      <th>category_2</th>\n",
       "      <th>rank</th>\n",
       "      <th>task_id</th>\n",
       "      <th>task_title</th>\n",
       "    </tr>\n",
       "  </thead>\n",
       "  <tbody>\n",
       "    <tr>\n",
       "      <th>0</th>\n",
       "      <td>nVbIUDjzWY4</td>\n",
       "      <td>Cars &amp; Other Vehicles</td>\n",
       "      <td>Motorcycles</td>\n",
       "      <td>27</td>\n",
       "      <td>52907</td>\n",
       "      <td>Paint a Motorcycle</td>\n",
       "    </tr>\n",
       "    <tr>\n",
       "      <th>1</th>\n",
       "      <td>rwmt7Cbuvfs</td>\n",
       "      <td>Cars &amp; Other Vehicles</td>\n",
       "      <td>Motorcycles</td>\n",
       "      <td>99</td>\n",
       "      <td>52907</td>\n",
       "      <td>Paint a Motorcycle</td>\n",
       "    </tr>\n",
       "    <tr>\n",
       "      <th>2</th>\n",
       "      <td>HnTLh99gcxY</td>\n",
       "      <td>Cars &amp; Other Vehicles</td>\n",
       "      <td>Motorcycles</td>\n",
       "      <td>35</td>\n",
       "      <td>52907</td>\n",
       "      <td>Paint a Motorcycle</td>\n",
       "    </tr>\n",
       "    <tr>\n",
       "      <th>3</th>\n",
       "      <td>RAidUDTPZ-k</td>\n",
       "      <td>Cars &amp; Other Vehicles</td>\n",
       "      <td>Motorcycles</td>\n",
       "      <td>10</td>\n",
       "      <td>52907</td>\n",
       "      <td>Paint a Motorcycle</td>\n",
       "    </tr>\n",
       "    <tr>\n",
       "      <th>4</th>\n",
       "      <td>tYQoPHwNkho</td>\n",
       "      <td>Cars &amp; Other Vehicles</td>\n",
       "      <td>Motorcycles</td>\n",
       "      <td>18</td>\n",
       "      <td>52907</td>\n",
       "      <td>Paint a Motorcycle</td>\n",
       "    </tr>\n",
       "  </tbody>\n",
       "</table>\n",
       "</div>"
      ],
      "text/plain": [
       "      video_id             category_1   category_2  rank  task_id  \\\n",
       "0  nVbIUDjzWY4  Cars & Other Vehicles  Motorcycles    27    52907   \n",
       "1  rwmt7Cbuvfs  Cars & Other Vehicles  Motorcycles    99    52907   \n",
       "2  HnTLh99gcxY  Cars & Other Vehicles  Motorcycles    35    52907   \n",
       "3  RAidUDTPZ-k  Cars & Other Vehicles  Motorcycles    10    52907   \n",
       "4  tYQoPHwNkho  Cars & Other Vehicles  Motorcycles    18    52907   \n",
       "\n",
       "           task_title  \n",
       "0  Paint a Motorcycle  \n",
       "1  Paint a Motorcycle  \n",
       "2  Paint a Motorcycle  \n",
       "3  Paint a Motorcycle  \n",
       "4  Paint a Motorcycle  "
      ]
     },
     "execution_count": 20,
     "metadata": {},
     "output_type": "execute_result"
    }
   ],
   "source": [
    "taskid2title_df.head()"
   ]
  },
  {
   "cell_type": "code",
   "execution_count": 35,
   "metadata": {
    "scrolled": true
   },
   "outputs": [
    {
     "data": {
      "text/plain": [
       "242360"
      ]
     },
     "execution_count": 35,
     "metadata": {},
     "output_type": "execute_result"
    }
   ],
   "source": [
    "len(cae_test_taskid2title_df)"
   ]
  },
  {
   "cell_type": "code",
   "execution_count": 34,
   "metadata": {},
   "outputs": [
    {
     "data": {
      "text/plain": [
       "338892"
      ]
     },
     "execution_count": 34,
     "metadata": {},
     "output_type": "execute_result"
    }
   ],
   "source": [
    "len(cae_taskid2title_df)"
   ]
  },
  {
   "cell_type": "markdown",
   "metadata": {},
   "source": [
    "#### Comphrehensive analysis (sample 5 tasks across domains) : "
   ]
  },
  {
   "cell_type": "code",
   "execution_count": 22,
   "metadata": {},
   "outputs": [],
   "source": [
    "categories = set(cae_taskid2title_df['category_1'].to_list())\n",
    "domain2tasktitlles = {}\n",
    "\n",
    "for cat in categories:\n",
    "    domain2tasktitlles[cat] = list(set(cae_taskid2title_df[cae_taskid2title_df['category_1']==cat]['task_title'].to_list()))"
   ]
  },
  {
   "cell_type": "code",
   "execution_count": 24,
   "metadata": {},
   "outputs": [
    {
     "name": "stdout",
     "output_type": "stream",
     "text": [
      "Health: 489\n",
      "Family Life: 56\n",
      "Personal Care and Style: 573\n",
      "Sports and Fitness: 357\n",
      "Cars & Other Vehicles: 1395\n",
      "Education and Communications: 667\n",
      "Home and Garden: 6844\n",
      "Hobbies and Crafts: 8543\n",
      "Computers and Electronics: 137\n",
      "Pets and Animals: 930\n",
      "Holidays and Traditions: 1775\n",
      "Arts and Entertainment: 199\n",
      "Food and Entertaining: 13397\n",
      "total tasks: 35362\n"
     ]
    }
   ],
   "source": [
    "sampled_tasktitles = []\n",
    "num = 5\n",
    "total_tasks = 0\n",
    "for cat in domain2tasktitlles.keys():\n",
    "    print(cat+':', len(domain2tasktitlles[cat]))\n",
    "    total_tasks += len(domain2tasktitlles[cat])\n",
    "    if len(domain2tasktitlles[cat]) > num:\n",
    "        sampled_tasktitles.extend(random.sample(domain2tasktitlles[cat], num))\n",
    "print('total tasks:', total_tasks)"
   ]
  },
  {
   "cell_type": "code",
   "execution_count": 25,
   "metadata": {},
   "outputs": [
    {
     "data": {
      "text/plain": [
       "65"
      ]
     },
     "execution_count": 25,
     "metadata": {},
     "output_type": "execute_result"
    }
   ],
   "source": [
    "len(sampled_tasktitles)"
   ]
  },
  {
   "cell_type": "code",
   "execution_count": 29,
   "metadata": {},
   "outputs": [
    {
     "data": {
      "text/plain": [
       "831"
      ]
     },
     "execution_count": 29,
     "metadata": {},
     "output_type": "execute_result"
    }
   ],
   "source": [
    "# get all videos for selective task titles\n",
    "sampled_vids = cae_taskid2title_df[cae_taskid2title_df['task_title'].isin(sampled_tasktitles)]['video_id'].to_list()\n",
    "len(sampled_vids)"
   ]
  },
  {
   "cell_type": "code",
   "execution_count": 30,
   "metadata": {},
   "outputs": [],
   "source": [
    "saved_path = '/mount/projekte/jp-silberer/hyuyang/paprika/S3D_HowTo100M/sampled_vids.txt'\n",
    "with open(saved_path, 'w') as f:\n",
    "    for vid in sampled_vids:\n",
    "        f.write(vid+'\\n')"
   ]
  },
  {
   "cell_type": "markdown",
   "id": "79fac456",
   "metadata": {},
   "source": [
    "#### For comparing PAPRIKA, get the same WikiHow Task Titles"
   ]
  },
  {
   "cell_type": "code",
   "execution_count": 10,
   "id": "3fffaad5",
   "metadata": {},
   "outputs": [],
   "source": [
    "# sample HowTo100M video id from paprika\n",
    "sampled_vids = ['8JevEqO_iS0', 'L8kRaQ-IwpM', 'O_sC9gyEER0', 'c0VlxPBSMDs', 'jRkJTww8HR0', 'kHb7POoH_gc']"
   ]
  },
  {
   "cell_type": "code",
   "execution_count": 18,
   "metadata": {},
   "outputs": [
    {
     "name": "stdout",
     "output_type": "stream",
     "text": [
      "[]\n"
     ]
    }
   ],
   "source": [
    "# none of the provided videos are in CAE dataset\n",
    "in_cae = []\n",
    "for vid in sampled_vids:\n",
    "    if vid in cae_by_vid:\n",
    "        in_cae.append(vid)\n",
    "print(in_cae)"
   ]
  },
  {
   "cell_type": "code",
   "execution_count": 21,
   "id": "f8f20164",
   "metadata": {},
   "outputs": [],
   "source": [
    "paprika_df = taskid2title_df[taskid2title_df['video_id'].isin(sampled_vids)]"
   ]
  },
  {
   "cell_type": "code",
   "execution_count": 22,
   "id": "dc0c84c4",
   "metadata": {},
   "outputs": [],
   "source": [
    "paprika_titles = set(paprika_df['task_title'].to_list())"
   ]
  },
  {
   "cell_type": "code",
   "execution_count": 23,
   "id": "4b8c995a",
   "metadata": {
    "scrolled": false
   },
   "outputs": [
    {
     "data": {
      "text/plain": [
       "{'Do a Hair Mask for Frizzy Hair',\n",
       " 'Grill Tri Tip',\n",
       " 'Make Pine Needle Tea',\n",
       " 'Make an Envelope Advent Calendar'}"
      ]
     },
     "execution_count": 23,
     "metadata": {},
     "output_type": "execute_result"
    }
   ],
   "source": [
    "paprika_titles"
   ]
  },
  {
   "cell_type": "markdown",
   "metadata": {},
   "source": [
    "#### For comparing PAPRIKA, get the subset of CAE test set that share the same WikiHow Task Titles"
   ]
  },
  {
   "cell_type": "code",
   "execution_count": 8,
   "id": "9a8d792b",
   "metadata": {},
   "outputs": [],
   "source": [
    "# find the video id that has a long sequence of video segments\n",
    "def get_vid2vidseg(test_set):\n",
    "    test_vid2vidseg = {}\n",
    "    for vid_seg_id, vid_info in test_set.items():\n",
    "        vid_id = vid_info['vid']\n",
    "        if vid_id not in test_vid2vidseg:\n",
    "            test_vid2vidseg[vid_id] = []\n",
    "            test_vid2vidseg[vid_id].append(vid_seg_id)\n",
    "        else:\n",
    "            test_vid2vidseg[vid_id].append(vid_seg_id)\n",
    "    return test_vid2vidseg"
   ]
  },
  {
   "cell_type": "code",
   "execution_count": 9,
   "id": "75e02957",
   "metadata": {},
   "outputs": [],
   "source": [
    "test_vid2vidseg = get_vid2vidseg(test_set)"
   ]
  },
  {
   "cell_type": "code",
   "execution_count": 31,
   "metadata": {},
   "outputs": [],
   "source": [
    "# add number of video segment information\n",
    "cae_test_df = cae_test_taskid2title_df.copy()\n",
    "num_vid_seg = [len(test_vid2vidseg.get(vid_id)) for vid_id in cae_test_taskid2title_df['video_id'].to_list()]\n",
    "cae_test_df['num_vid_seg_in_test_set'] = num_vid_seg\n",
    "\n",
    "\n",
    "# get a subset where the video ids has the paprika titles\n",
    "subset_cae_test_df = cae_test_df[cae_test_df['task_title'].isin(paprika_titles)]\n"
   ]
  },
  {
   "cell_type": "code",
   "execution_count": 32,
   "id": "248e8262",
   "metadata": {},
   "outputs": [
    {
     "data": {
      "text/html": [
       "<div>\n",
       "<style scoped>\n",
       "    .dataframe tbody tr th:only-of-type {\n",
       "        vertical-align: middle;\n",
       "    }\n",
       "\n",
       "    .dataframe tbody tr th {\n",
       "        vertical-align: top;\n",
       "    }\n",
       "\n",
       "    .dataframe thead th {\n",
       "        text-align: right;\n",
       "    }\n",
       "</style>\n",
       "<table border=\"1\" class=\"dataframe\">\n",
       "  <thead>\n",
       "    <tr style=\"text-align: right;\">\n",
       "      <th></th>\n",
       "      <th>video_id</th>\n",
       "      <th>category_1</th>\n",
       "      <th>category_2</th>\n",
       "      <th>rank</th>\n",
       "      <th>task_id</th>\n",
       "      <th>task_title</th>\n",
       "      <th>num_vid_seg_in_test_set</th>\n",
       "    </tr>\n",
       "  </thead>\n",
       "  <tbody>\n",
       "    <tr>\n",
       "      <th>245678</th>\n",
       "      <td>X3HyjpVl-aw</td>\n",
       "      <td>Holidays and Traditions</td>\n",
       "      <td>Christmas</td>\n",
       "      <td>100</td>\n",
       "      <td>106071</td>\n",
       "      <td>Make an Envelope Advent Calendar</td>\n",
       "      <td>4</td>\n",
       "    </tr>\n",
       "    <tr>\n",
       "      <th>245680</th>\n",
       "      <td>UNjtGiec1z8</td>\n",
       "      <td>Holidays and Traditions</td>\n",
       "      <td>Christmas</td>\n",
       "      <td>102</td>\n",
       "      <td>106071</td>\n",
       "      <td>Make an Envelope Advent Calendar</td>\n",
       "      <td>1</td>\n",
       "    </tr>\n",
       "    <tr>\n",
       "      <th>245681</th>\n",
       "      <td>ExMBGoSUInY</td>\n",
       "      <td>Holidays and Traditions</td>\n",
       "      <td>Christmas</td>\n",
       "      <td>103</td>\n",
       "      <td>106071</td>\n",
       "      <td>Make an Envelope Advent Calendar</td>\n",
       "      <td>3</td>\n",
       "    </tr>\n",
       "    <tr>\n",
       "      <th>245701</th>\n",
       "      <td>vVfXpqT-VzA</td>\n",
       "      <td>Holidays and Traditions</td>\n",
       "      <td>Christmas</td>\n",
       "      <td>101</td>\n",
       "      <td>106071</td>\n",
       "      <td>Make an Envelope Advent Calendar</td>\n",
       "      <td>2</td>\n",
       "    </tr>\n",
       "    <tr>\n",
       "      <th>245716</th>\n",
       "      <td>KuL4p4P1xbY</td>\n",
       "      <td>Holidays and Traditions</td>\n",
       "      <td>Christmas</td>\n",
       "      <td>112</td>\n",
       "      <td>106071</td>\n",
       "      <td>Make an Envelope Advent Calendar</td>\n",
       "      <td>7</td>\n",
       "    </tr>\n",
       "  </tbody>\n",
       "</table>\n",
       "</div>"
      ],
      "text/plain": [
       "           video_id               category_1 category_2  rank  task_id  \\\n",
       "245678  X3HyjpVl-aw  Holidays and Traditions  Christmas   100   106071   \n",
       "245680  UNjtGiec1z8  Holidays and Traditions  Christmas   102   106071   \n",
       "245681  ExMBGoSUInY  Holidays and Traditions  Christmas   103   106071   \n",
       "245701  vVfXpqT-VzA  Holidays and Traditions  Christmas   101   106071   \n",
       "245716  KuL4p4P1xbY  Holidays and Traditions  Christmas   112   106071   \n",
       "\n",
       "                              task_title  num_vid_seg_in_test_set  \n",
       "245678  Make an Envelope Advent Calendar                        4  \n",
       "245680  Make an Envelope Advent Calendar                        1  \n",
       "245681  Make an Envelope Advent Calendar                        3  \n",
       "245701  Make an Envelope Advent Calendar                        2  \n",
       "245716  Make an Envelope Advent Calendar                        7  "
      ]
     },
     "execution_count": 32,
     "metadata": {},
     "output_type": "execute_result"
    }
   ],
   "source": [
    "subset_cae_test_df.head()"
   ]
  },
  {
   "cell_type": "code",
   "execution_count": null,
   "metadata": {},
   "outputs": [],
   "source": [
    "#### Quick test: For comparing PAPRIKA on the task title \"Grill Tri Tip\". "
   ]
  },
  {
   "cell_type": "code",
   "execution_count": 36,
   "metadata": {},
   "outputs": [
    {
     "data": {
      "text/plain": [
       "['kzaCC0imIDw',\n",
       " 'b7dPM26SIBU',\n",
       " '6T1jb4ekdGA',\n",
       " 'Aj3FDRfWdQk',\n",
       " '0lHyjDnVGew',\n",
       " 'ATTK3Z3N0OQ',\n",
       " 'Zcc2lwRd4dU',\n",
       " 'HMt9LgYKkCU',\n",
       " 'rXNtObw3s6Q',\n",
       " 'mlRFibSI_uw',\n",
       " '1-exqyHuliQ',\n",
       " 'kXsUu6eMjnc']"
      ]
     },
     "execution_count": 36,
     "metadata": {},
     "output_type": "execute_result"
    }
   ],
   "source": [
    "# get the video ids for the task title \"Grill Tri Tip\"\n",
    "task_title = 'Grill Tri Tip'\n",
    "video_ids = cae_taskid2title_df[cae_taskid2title_df['task_title'].isin([task_title])]['video_id'].to_list()\n",
    "video_ids"
   ]
  },
  {
   "cell_type": "code",
   "execution_count": 40,
   "metadata": {},
   "outputs": [
    {
     "name": "stdout",
     "output_type": "stream",
     "text": [
      "['kzaCC0imIDw_30', 'kzaCC0imIDw_128', 'kzaCC0imIDw_121', 'kzaCC0imIDw_8', 'kzaCC0imIDw_13']\n",
      "236\n"
     ]
    }
   ],
   "source": [
    "# get the vid seg ids\n",
    "selected_vidseg = []\n",
    "for vid in video_ids:\n",
    "    vid_segs = cae_by_vid.get(vid)\n",
    "    for vid_seg in vid_segs.keys():\n",
    "        vid_seg_id = vid + '_' + vid_seg\n",
    "        selected_vidseg.append(vid_seg_id)\n",
    "print(selected_vidseg[:5])\n",
    "print(len(selected_vidseg))"
   ]
  },
  {
   "cell_type": "code",
   "execution_count": 44,
   "metadata": {},
   "outputs": [],
   "source": [
    "saved_path = '/mount/projekte/jp-silberer/hyuyang/paprika/S3D_HowTo100M/vid_segs.txt'\n",
    "with open(saved_path, 'w') as f:\n",
    "    for vid in selected_vidseg:\n",
    "        f.write(vid+'\\n')"
   ]
  },
  {
   "cell_type": "markdown",
   "id": "c7f16e34",
   "metadata": {},
   "source": [
    "#### Get Task Table with More Unseen Video Segments (for CAE test set)"
   ]
  },
  {
   "cell_type": "code",
   "execution_count": 38,
   "id": "a057983a",
   "metadata": {},
   "outputs": [],
   "source": [
    "cae_procedural_test_df = cae_test_df[cae_test_df['num_vid_seg_in_test_set']>5]"
   ]
  },
  {
   "cell_type": "code",
   "execution_count": 39,
   "id": "7cf27b1b",
   "metadata": {},
   "outputs": [
    {
     "data": {
      "text/html": [
       "<div>\n",
       "<style scoped>\n",
       "    .dataframe tbody tr th:only-of-type {\n",
       "        vertical-align: middle;\n",
       "    }\n",
       "\n",
       "    .dataframe tbody tr th {\n",
       "        vertical-align: top;\n",
       "    }\n",
       "\n",
       "    .dataframe thead th {\n",
       "        text-align: right;\n",
       "    }\n",
       "</style>\n",
       "<table border=\"1\" class=\"dataframe\">\n",
       "  <thead>\n",
       "    <tr style=\"text-align: right;\">\n",
       "      <th></th>\n",
       "      <th>video_id</th>\n",
       "      <th>category_1</th>\n",
       "      <th>category_2</th>\n",
       "      <th>rank</th>\n",
       "      <th>task_id</th>\n",
       "      <th>task_title</th>\n",
       "      <th>num_vid_seg_in_test_set</th>\n",
       "    </tr>\n",
       "  </thead>\n",
       "  <tbody>\n",
       "    <tr>\n",
       "      <th>19</th>\n",
       "      <td>tTx8mid-aq4</td>\n",
       "      <td>Cars &amp; Other Vehicles</td>\n",
       "      <td>Motorcycles</td>\n",
       "      <td>116</td>\n",
       "      <td>52907</td>\n",
       "      <td>Paint a Motorcycle</td>\n",
       "      <td>6</td>\n",
       "    </tr>\n",
       "    <tr>\n",
       "      <th>56</th>\n",
       "      <td>69sLb-hKrUo</td>\n",
       "      <td>Cars &amp; Other Vehicles</td>\n",
       "      <td>Motorcycles</td>\n",
       "      <td>124</td>\n",
       "      <td>52907</td>\n",
       "      <td>Paint a Motorcycle</td>\n",
       "      <td>12</td>\n",
       "    </tr>\n",
       "    <tr>\n",
       "      <th>63</th>\n",
       "      <td>3PvbY30DMP8</td>\n",
       "      <td>Cars &amp; Other Vehicles</td>\n",
       "      <td>Motorcycles</td>\n",
       "      <td>125</td>\n",
       "      <td>52907</td>\n",
       "      <td>Paint a Motorcycle</td>\n",
       "      <td>6</td>\n",
       "    </tr>\n",
       "    <tr>\n",
       "      <th>66</th>\n",
       "      <td>-qhlLvJFjxM</td>\n",
       "      <td>Cars &amp; Other Vehicles</td>\n",
       "      <td>Motorcycles</td>\n",
       "      <td>11</td>\n",
       "      <td>52907</td>\n",
       "      <td>Paint a Motorcycle</td>\n",
       "      <td>8</td>\n",
       "    </tr>\n",
       "    <tr>\n",
       "      <th>258</th>\n",
       "      <td>NVKln6dCeyo</td>\n",
       "      <td>Cars &amp; Other Vehicles</td>\n",
       "      <td>Cars</td>\n",
       "      <td>55</td>\n",
       "      <td>71845</td>\n",
       "      <td>Polish an Aftermarket Header</td>\n",
       "      <td>11</td>\n",
       "    </tr>\n",
       "  </tbody>\n",
       "</table>\n",
       "</div>"
      ],
      "text/plain": [
       "        video_id             category_1   category_2  rank  task_id  \\\n",
       "19   tTx8mid-aq4  Cars & Other Vehicles  Motorcycles   116    52907   \n",
       "56   69sLb-hKrUo  Cars & Other Vehicles  Motorcycles   124    52907   \n",
       "63   3PvbY30DMP8  Cars & Other Vehicles  Motorcycles   125    52907   \n",
       "66   -qhlLvJFjxM  Cars & Other Vehicles  Motorcycles    11    52907   \n",
       "258  NVKln6dCeyo  Cars & Other Vehicles         Cars    55    71845   \n",
       "\n",
       "                       task_title  num_vid_seg_in_test_set  \n",
       "19             Paint a Motorcycle                        6  \n",
       "56             Paint a Motorcycle                       12  \n",
       "63             Paint a Motorcycle                        6  \n",
       "66             Paint a Motorcycle                        8  \n",
       "258  Polish an Aftermarket Header                       11  "
      ]
     },
     "execution_count": 39,
     "metadata": {},
     "output_type": "execute_result"
    }
   ],
   "source": [
    "cae_procedural_test_df.head()"
   ]
  },
  {
   "cell_type": "code",
   "execution_count": 46,
   "id": "270422a1",
   "metadata": {},
   "outputs": [],
   "source": [
    "def to_dataframe(model_path):\n",
    "    results = json.load(open(model_path, 'r'))\n",
    "    df = pd.DataFrame.from_dict(results).T\n",
    "    return df"
   ]
  },
  {
   "cell_type": "markdown",
   "id": "19ec14e7",
   "metadata": {},
   "source": [
    "#### Get Result Verb Dense Domains"
   ]
  },
  {
   "cell_type": "code",
   "execution_count": 19,
   "id": "8a73572b",
   "metadata": {},
   "outputs": [],
   "source": [
    "# result verb dense domains\n",
    "domains = ['Food and Entertaining', 'Sports and Fitness', 'Cars & Other Vehicles', \n",
    "                       'Pets and Animals', 'Home and Garden', 'Hobbies and Crafts']\n",
    "\n",
    "food = cae_procedural_test_df[cae_procedural_test_df['category_1']=='Food and Entertaining']\n",
    "home = cae_procedural_test_df[cae_procedural_test_df['category_1']=='Home and Garden']\n",
    "craft = cae_procedural_test_df[cae_procedural_test_df['category_1']=='Hobbies and Crafts']"
   ]
  },
  {
   "cell_type": "code",
   "execution_count": 73,
   "id": "7d739c87",
   "metadata": {},
   "outputs": [
    {
     "name": "stdout",
     "output_type": "stream",
     "text": [
      "10953\n",
      "4084\n",
      "4657\n"
     ]
    }
   ],
   "source": [
    "food.head()\n",
    "print(len(food))\n",
    "print(len(home))\n",
    "print(len(craft))"
   ]
  },
  {
   "cell_type": "markdown",
   "id": "735197a0",
   "metadata": {},
   "source": [
    "### Steps for checking action step sequences"
   ]
  },
  {
   "cell_type": "markdown",
   "id": "b981e819",
   "metadata": {},
   "source": [
    "- [x] Randomly take 1 taskid from result verb dense domains (check if the title requires procedural knowledge)\n",
    "- [x] Find task id to video ids \n",
    "    - (Nonseq: for each video id, find WikiHow corresponding title id)\n",
    "- [x] Get the sequence of actions of CAE, model prediction, and original Howto100M (only on verbs)"
   ]
  },
  {
   "cell_type": "code",
   "execution_count": 20,
   "id": "b660f404",
   "metadata": {},
   "outputs": [],
   "source": [
    "def get_random_title(domain_df):\n",
    "    task_titles = domain_df['task_title'].to_list()\n",
    "    title = random.choice(task_titles)\n",
    "    return title\n",
    "    \n",
    "def get_top_rank(title_df, n=5):\n",
    "    top_vids = []\n",
    "    if len(title_df) < n:\n",
    "        n = len(title_df)\n",
    "    \n",
    "    rank2vid = {}\n",
    "    ranks = title_df['rank'].to_list()\n",
    "    vids =  title_df['video_id'].to_list()\n",
    "\n",
    "    ranks, videos = zip(*sorted(zip(ranks, vids)))\n",
    "    return videos[:n]\n",
    "\n",
    "def get_action_object_sequence(data_by_vid, vid):\n",
    "    act_obj_seq = []\n",
    "    vid_seg_seq = []\n",
    "    vid_seg_dict = data_by_vid.get(vid)\n",
    "    if vid_seg_dict is None:\n",
    "        return act_obj_seq\n",
    "    \n",
    "    for idx, (k, v) in enumerate(vid_seg_dict.items()):\n",
    "        step = f'step_action{idx}:'\n",
    "        verb = vid_seg_dict[k]['verbs'][0]\n",
    "        nouns = vid_seg_dict[k]['all_nouns'][0]\n",
    "        vid_seg_id = vid + '_' + str(vid_seg_dict[k]['vid seg'])\n",
    "        \n",
    "        act_obj_seq.append(step + '(' + verb + ', ' + '[' + ', '.join(nouns) + ']' + ')')\n",
    "        vid_seg_seq.append(vid_seg_id)\n",
    "    \n",
    "    return act_obj_seq, vid_seg_seq\n",
    "\n",
    "# def get_task_action_sequence(task_name, data_by_vid, vid):\n",
    "#     # TODO: how to get the video title name\n",
    "#     act_obj_seq, vid_seg_seq = get_action_object_sequence(data_by_vid, vid)\n",
    "#     return act_obj_seq, vid_seg_seq"
   ]
  },
  {
   "cell_type": "code",
   "execution_count": 21,
   "id": "d54faa49",
   "metadata": {},
   "outputs": [],
   "source": [
    "def get_prediction_seq(pred_df, vid_seg_seq):\n",
    "    preds = []\n",
    "    for idx, vid_seg_id in enumerate(vid_seg_seq):\n",
    "        step = f'step_action{idx}:'\n",
    "        try:\n",
    "            pred_verb = pred_df.loc[vid_seg_id, 'prediction']\n",
    "            preds.append(step + pred_verb)\n",
    "        except KeyError:\n",
    "            preds.append('N/A')\n",
    "    return preds    "
   ]
  },
  {
   "cell_type": "markdown",
   "id": "7ef21e7d",
   "metadata": {},
   "source": [
    "#### GET CAE pretrained model prediction files "
   ]
  },
  {
   "cell_type": "code",
   "execution_count": 47,
   "id": "1b5f01f2",
   "metadata": {},
   "outputs": [],
   "source": [
    "# all model results on MULTIMODAL inference setting\n",
    "root = '/mount/arbeitsdaten/jp-silberer/ernie_vil/model/cae'\n",
    "\n",
    "VL_full_model_path = os.path.join(root, 'pretrain_cae_mam_verb_random_joint_100_val_10/MAP/100_per/results_test/results_97500_text_visual_all.json')\n",
    "VL_full_df = to_dataframe(VL_full_model_path)\n",
    "# VL_full_df.reset_index(inplace=True)\n",
    "\n",
    "VL_full_sub_model_path = os.path.join(root, 'pretrain_cae_mam_verb_random_joint_sub_100_val_10/MAP/100_per/results_test/results_92500_text_visual_all.json')\n",
    "VL_full_sub_df = to_dataframe(VL_full_sub_model_path)\n",
    "\n",
    "VL_multi_model_path = os.path.join(root, 'pretrain_cae_mam_mem_100/MAP/100_per/results_test/results_69500_text_visual_all.json')\n",
    "VL_multi_df = to_dataframe(VL_multi_model_path)"
   ]
  },
  {
   "cell_type": "markdown",
   "id": "740f3216",
   "metadata": {},
   "source": [
    "### Conditioned on the sampled task titles of Paprika"
   ]
  },
  {
   "cell_type": "code",
   "execution_count": 55,
   "id": "530f4aaf",
   "metadata": {},
   "outputs": [
    {
     "name": "stdout",
     "output_type": "stream",
     "text": [
      "WikiHow Task Name: Make an Envelope Advent Calendar\n",
      "video id: zc0TCgLuJRU\n",
      "CAE Reference Action - Object Sequences:\n",
      "['step_action0:(make, [variation, envelope])', 'step_action1:(make, [origami])', 'step_action2:(cut, [])', 'step_action3:(roll, [it, we])', 'step_action4:(roll, [edge, it])', 'step_action5:(roll, [it])', 'step_action6:(slide, [tip, they])', 'step_action7:(put, [card, what])', 'step_action8:(put, [piece])', 'step_action9:(pinch, [side])', 'step_action10:(set, [])']\n",
      "\n",
      "\n",
      "MAM_VL (input: multimodal):\n",
      "['step_action0:put', 'N/A', 'N/A', 'step_action3:make', 'step_action4:throw', 'N/A', 'N/A', 'N/A', 'N/A', 'N/A', 'N/A']\n",
      "\n",
      "\n",
      "MULTI-VL (input: multimodal):\n",
      "['step_action0:put', 'N/A', 'N/A', 'step_action3:put', 'step_action4:put', 'N/A', 'N/A', 'N/A', 'N/A', 'N/A', 'N/A']\n",
      "\n",
      "\n",
      "MAM_L (input: unimodal):\n",
      "['step_action0:put', 'N/A', 'N/A', 'step_action3:make', 'step_action4:throw', 'N/A', 'N/A', 'N/A', 'N/A', 'N/A', 'N/A']\n",
      "\n",
      "\n",
      "video id: PQl6A18q09Y\n",
      "CAE Reference Action - Object Sequences:\n",
      "['step_action0:(make, [sort, a])', 'step_action1:(make, [])', 'step_action2:(make, [error])', 'step_action3:(make, [like, lack, a])', 'step_action4:(make, [this])', 'step_action5:(make, [I, hour])', 'step_action6:(glue, [it, side])', 'step_action7:(glue, [they, you])', 'step_action8:(cut, [they])', 'step_action9:(cut, [room, it])', 'step_action10:(cut, [little])', 'step_action11:(cut, [they])', 'step_action12:(cut, [])', 'step_action13:(stick, [theme, that])', 'step_action14:(pull, [])', 'step_action15:(put, [it, secret])', 'step_action16:(put, [number])', 'step_action17:(put, [whatever, you])', 'step_action18:(put, [])', 'step_action19:(put, [])', 'step_action20:(put, [that, bit])', 'step_action21:(put, [a, it])', 'step_action22:(put, [date])', 'step_action23:(put, [it, chocolate])', 'step_action24:(put, [gift, each])', 'step_action25:(put, [you])', 'step_action26:(attach, [box, I])', 'step_action27:(attach, [])', 'step_action28:(attach, [two, these])', 'step_action29:(join, [you])', 'step_action30:(float, [it])', 'step_action31:(float, [])']\n",
      "\n",
      "\n",
      "MAM_VL (input: multimodal):\n",
      "['N/A', 'N/A', 'N/A', 'N/A', 'N/A', 'N/A', 'N/A', 'N/A', 'N/A', 'N/A', 'N/A', 'N/A', 'N/A', 'step_action13:stick', 'step_action14:make', 'step_action15:make', 'N/A', 'N/A', 'N/A', 'N/A', 'N/A', 'N/A', 'N/A', 'N/A', 'N/A', 'N/A', 'N/A', 'step_action27:make', 'N/A', 'N/A', 'N/A', 'N/A']\n",
      "\n",
      "\n",
      "MULTI-VL (input: multimodal):\n",
      "['N/A', 'N/A', 'N/A', 'N/A', 'N/A', 'N/A', 'N/A', 'N/A', 'N/A', 'N/A', 'N/A', 'N/A', 'N/A', 'step_action13:di', 'step_action14:make', 'step_action15:make', 'N/A', 'N/A', 'N/A', 'N/A', 'N/A', 'N/A', 'N/A', 'N/A', 'N/A', 'N/A', 'N/A', 'step_action27:make', 'N/A', 'N/A', 'N/A', 'N/A']\n",
      "\n",
      "\n",
      "MAM_L (input: unimodal):\n",
      "['N/A', 'N/A', 'N/A', 'N/A', 'N/A', 'N/A', 'N/A', 'N/A', 'N/A', 'N/A', 'N/A', 'N/A', 'N/A', 'step_action13:made', 'step_action14:make', 'step_action15:make', 'N/A', 'N/A', 'N/A', 'N/A', 'N/A', 'N/A', 'N/A', 'N/A', 'N/A', 'N/A', 'N/A', 'step_action27:make', 'N/A', 'N/A', 'N/A', 'N/A']\n",
      "\n",
      "\n",
      "video id: X3HyjpVl-aw\n",
      "CAE Reference Action - Object Sequences:\n",
      "['step_action0:(make, [tiny])', 'step_action1:(make, [flower])', 'step_action2:(make, [top, this])', 'step_action3:(make, [star, that])', 'step_action4:(break, [they])', 'step_action5:(put, [])', 'step_action6:(put, [brad, center])', 'step_action7:(put, [the, dowel])', 'step_action8:(put, [])', 'step_action9:(put, [a])', 'step_action10:(wrap, [])', 'step_action11:(mix, [])']\n",
      "\n",
      "\n",
      "MAM_VL (input: multimodal):\n",
      "['N/A', 'N/A', 'N/A', 'N/A', 'step_action4:make', 'N/A', 'N/A', 'step_action7:put', 'N/A', 'step_action9:make', 'N/A', 'step_action11:make']\n",
      "\n",
      "\n",
      "MULTI-VL (input: multimodal):\n",
      "['N/A', 'N/A', 'N/A', 'N/A', 'step_action4:make', 'N/A', 'N/A', 'step_action7:put', 'N/A', 'step_action9:make', 'N/A', 'step_action11:the']\n",
      "\n",
      "\n",
      "MAM_L (input: unimodal):\n",
      "['N/A', 'N/A', 'N/A', 'N/A', 'step_action4:make', 'N/A', 'N/A', 'step_action7:put', 'N/A', 'step_action9:make', 'N/A', 'step_action11:make']\n",
      "\n",
      "\n",
      "video id: vVfXpqT-VzA\n",
      "CAE Reference Action - Object Sequences:\n",
      "['step_action0:(make, [])', 'step_action1:(make, [])', 'step_action2:(make, [wood])', 'step_action3:(cut, [this])', 'step_action4:(cut, [piece])', 'step_action5:(cut, [square])', 'step_action6:(cut, [it, size])', 'step_action7:(stick, [finger])', 'step_action8:(put, [that])', 'step_action9:(put, [bit, glue])', 'step_action10:(put, [glue])', 'step_action11:(put, [number])', 'step_action12:(put, [])', 'step_action13:(set, [while])', 'step_action14:(fold, [it, front])', 'step_action15:(bend, [it, three, the])', 'step_action16:(paint, [they, color])', 'step_action17:(dry, [])', 'step_action18:(peel, [you])', 'step_action19:(rip, [edge])']\n",
      "\n",
      "\n",
      "MAM_VL (input: multimodal):\n",
      "['N/A', 'N/A', 'N/A', 'step_action3:put', 'N/A', 'N/A', 'step_action6:cut', 'N/A', 'N/A', 'N/A', 'N/A', 'N/A', 'N/A', 'N/A', 'N/A', 'N/A', 'N/A', 'N/A', 'N/A', 'N/A']\n",
      "\n",
      "\n",
      "MULTI-VL (input: multimodal):\n",
      "['N/A', 'N/A', 'N/A', 'step_action3:put', 'N/A', 'N/A', 'step_action6:cut', 'N/A', 'N/A', 'N/A', 'N/A', 'N/A', 'N/A', 'N/A', 'N/A', 'N/A', 'N/A', 'N/A', 'N/A', 'N/A']\n",
      "\n",
      "\n",
      "MAM_L (input: unimodal):\n",
      "['N/A', 'N/A', 'N/A', 'step_action3:cut', 'N/A', 'N/A', 'step_action6:cut', 'N/A', 'N/A', 'N/A', 'N/A', 'N/A', 'N/A', 'N/A', 'N/A', 'N/A', 'N/A', 'N/A', 'N/A', 'N/A']\n",
      "\n",
      "\n",
      "video id: UNjtGiec1z8\n",
      "CAE Reference Action - Object Sequences:\n",
      "['step_action0:(make, [])', 'step_action1:(cut, [])', 'step_action2:(punch, [it, two])', 'step_action3:(punch, [that])', 'step_action4:(put, [link])', 'step_action5:(put, [link])', 'step_action6:(put, [])', 'step_action7:(join, [we])']\n",
      "\n",
      "\n",
      "MAM_VL (input: multimodal):\n",
      "['N/A', 'step_action1:cut', 'N/A', 'N/A', 'N/A', 'N/A', 'N/A', 'N/A']\n",
      "\n",
      "\n",
      "MULTI-VL (input: multimodal):\n",
      "['N/A', 'step_action1:cut', 'N/A', 'N/A', 'N/A', 'N/A', 'N/A', 'N/A']\n",
      "\n",
      "\n",
      "MAM_L (input: unimodal):\n",
      "['N/A', 'step_action1:cut', 'N/A', 'N/A', 'N/A', 'N/A', 'N/A', 'N/A']\n",
      "\n",
      "\n",
      "video id: ExMBGoSUInY\n",
      "CAE Reference Action - Object Sequences:\n",
      "['step_action0:(make, [you, it])', 'step_action1:(make, [corner])', 'step_action2:(glue, [part])', 'step_action3:(cut, [part])', 'step_action4:(punch, [])', 'step_action5:(punch, [])', 'step_action6:(punch, [])', 'step_action7:(stick, [they])', 'step_action8:(stick, [they, they])', 'step_action9:(pull, [it])', 'step_action10:(slide, [it, mark])', 'step_action11:(put, [that])', 'step_action12:(put, [that])', 'step_action13:(join, [uk, you, I])', 'step_action14:(join, [month])']\n",
      "\n",
      "\n",
      "MAM_VL (input: multimodal):\n",
      "['step_action0:make', 'N/A', 'N/A', 'step_action3:cut', 'N/A', 'N/A', 'N/A', 'N/A', 'N/A', 'N/A', 'N/A', 'N/A', 'N/A', 'N/A', 'step_action14:made']\n",
      "\n",
      "\n",
      "MULTI-VL (input: multimodal):\n",
      "['step_action0:make', 'N/A', 'N/A', 'step_action3:cut', 'N/A', 'N/A', 'N/A', 'N/A', 'N/A', 'N/A', 'N/A', 'N/A', 'N/A', 'N/A', 'step_action14:made']\n",
      "\n",
      "\n",
      "MAM_L (input: unimodal):\n",
      "['step_action0:make', 'N/A', 'N/A', 'step_action3:cut', 'N/A', 'N/A', 'N/A', 'N/A', 'N/A', 'N/A', 'N/A', 'N/A', 'N/A', 'N/A', 'step_action14:made']\n",
      "\n",
      "\n",
      "video id: WkTJ4_VdFoU\n",
      "CAE Reference Action - Object Sequences:\n",
      "['step_action0:(make, [])', 'step_action1:(make, [])', 'step_action2:(make, [fun, own])', 'step_action3:(glue, [that, front, box])', 'step_action4:(cut, [cardstock])', 'step_action5:(cut, [they])', 'step_action6:(cut, [mat, five])', 'step_action7:(cut, [mat])', 'step_action8:(cut, [they, quarter])', 'step_action9:(cut, [those, one])', 'step_action10:(cut, [they, a])', 'step_action11:(cut, [reason, that])', 'step_action12:(cut, [])', 'step_action13:(punch, [the])', 'step_action14:(punch, [ottoman])', 'step_action15:(punch, [that])', 'step_action16:(put, [star, he, this])', 'step_action17:(brush, [stock])', 'step_action18:(brush, [stamping, this])', 'step_action19:(set, [])']\n",
      "\n",
      "\n",
      "MAM_VL (input: multimodal):\n",
      "['N/A', 'N/A', 'N/A', 'step_action3:put', 'N/A', 'N/A', 'step_action6:make', 'N/A', 'N/A', 'N/A', 'N/A', 'N/A', 'N/A', 'N/A', 'N/A', 'N/A', 'N/A', 'N/A', 'N/A', 'N/A']\n",
      "\n",
      "\n",
      "MULTI-VL (input: multimodal):\n",
      "['N/A', 'N/A', 'N/A', 'step_action3:put', 'N/A', 'N/A', 'step_action6:make', 'N/A', 'N/A', 'N/A', 'N/A', 'N/A', 'N/A', 'N/A', 'N/A', 'N/A', 'N/A', 'N/A', 'N/A', 'N/A']\n",
      "\n",
      "\n",
      "MAM_L (input: unimodal):\n",
      "['N/A', 'N/A', 'N/A', 'step_action3:turn', 'N/A', 'N/A', 'step_action6:make', 'N/A', 'N/A', 'N/A', 'N/A', 'N/A', 'N/A', 'N/A', 'N/A', 'N/A', 'N/A', 'N/A', 'N/A', 'N/A']\n",
      "\n",
      "\n",
      "video id: lMNnVBAFDro\n",
      "CAE Reference Action - Object Sequences:\n",
      "['step_action0:(make, [])', 'step_action1:(cut, [pad, adapter])', 'step_action2:(cut, [brown])', 'step_action3:(cut, [bunch, little])', 'step_action4:(cut, [])', 'step_action5:(cut, [paper, that])', 'step_action6:(punch, [we])', 'step_action7:(punch, [hole, that])', 'step_action8:(stick, [they, corner])', 'step_action9:(stick, [icon, the])', 'step_action10:(push, [tweezer])', 'step_action11:(put, [spin, it])', 'step_action12:(put, [paper])', 'step_action13:(put, [bible, you])', 'step_action14:(put, [candy])', 'step_action15:(wrap, [calendar])', 'step_action16:(insert, [note])', 'step_action17:(fry, [time])', 'step_action18:(attach, [calendar, this])', 'step_action19:(attach, [strip])', 'step_action20:(attach, [each])', 'step_action21:(tie, [they])', 'step_action22:(join, [I, simon])', 'step_action23:(connect, [])', 'step_action24:(mix, [one, color])', 'step_action25:(set, [set])', 'step_action26:(set, [])', 'step_action27:(seal, [end, ribbon])', 'step_action28:(fold, [these])', 'step_action29:(paint, [it, hand])', 'step_action30:(slip, [each, the])', 'step_action31:(peel, [the])', 'step_action32:(sprinkle, [this, top, paste])', 'step_action33:(rip, [that])', 'step_action34:(rip, [everything])', 'step_action35:(rip, [perforated])']\n",
      "\n",
      "\n",
      "MAM_VL (input: multimodal):\n",
      "['N/A', 'N/A', 'N/A', 'N/A', 'N/A', 'N/A', 'N/A', 'N/A', 'N/A', 'N/A', 'N/A', 'step_action11:put', 'N/A', 'N/A', 'N/A', 'N/A', 'N/A', 'N/A', 'step_action18:press', 'step_action19:stick', 'N/A', 'N/A', 'N/A', 'step_action23:cook', 'step_action24:soak', 'N/A', 'N/A', 'N/A', 'N/A', 'N/A', 'N/A', 'N/A', 'N/A', 'N/A', 'N/A', 'step_action35:wrap']\n",
      "\n",
      "\n",
      "MULTI-VL (input: multimodal):\n",
      "['N/A', 'N/A', 'N/A', 'N/A', 'N/A', 'N/A', 'N/A', 'N/A', 'N/A', 'N/A', 'N/A', 'step_action11:put', 'N/A', 'N/A', 'N/A', 'N/A', 'N/A', 'N/A', 'step_action18:press', 'step_action19:sew', 'N/A', 'N/A', 'N/A', 'step_action23:cook', 'step_action24:soak', 'N/A', 'N/A', 'N/A', 'N/A', 'N/A', 'N/A', 'N/A', 'N/A', 'N/A', 'N/A', 'step_action35:put']\n",
      "\n",
      "\n",
      "MAM_L (input: unimodal):\n",
      "['N/A', 'N/A', 'N/A', 'N/A', 'N/A', 'N/A', 'N/A', 'N/A', 'N/A', 'N/A', 'N/A', 'step_action11:put', 'N/A', 'N/A', 'N/A', 'N/A', 'N/A', 'N/A', 'step_action18:press', 'step_action19:sew', 'N/A', 'N/A', 'N/A', 'step_action23:cook', 'step_action24:soak', 'N/A', 'N/A', 'N/A', 'N/A', 'N/A', 'N/A', 'N/A', 'N/A', 'N/A', 'N/A', 'step_action35:wrap']\n",
      "\n",
      "\n",
      "video id: PDJa66rp41s\n",
      "CAE Reference Action - Object Sequences:\n",
      "['step_action0:(make, [paper])', 'step_action1:(make, [you, what, this])', 'step_action2:(make, [tag, you])', 'step_action3:(make, [envelope])', 'step_action4:(assemble, [it, whatever])', 'step_action5:(cut, [it, the])', 'step_action6:(cut, [oh, way])', 'step_action7:(cut, [foam, number])', 'step_action8:(cut, [it, guillotine])', 'step_action9:(punch, [sort, thing])', 'step_action10:(punch, [some])', 'step_action11:(stick, [course])', 'step_action12:(throw, [that, this])', 'step_action13:(put, [link, description])', 'step_action14:(put, [])', 'step_action15:(put, [it])', 'step_action16:(put, [they])', 'step_action17:(put, [it])', 'step_action18:(put, [candy])', 'step_action19:(put, [])', 'step_action20:(place, [paper])', 'step_action21:(bind, [something])', 'step_action22:(fold, [edge])', 'step_action23:(chew, [nail])']\n",
      "\n",
      "\n",
      "MAM_VL (input: multimodal):\n",
      "['N/A', 'step_action1:made', 'N/A', 'N/A', 'N/A', 'N/A', 'N/A', 'N/A', 'N/A', 'N/A', 'N/A', 'N/A', 'N/A', 'N/A', 'N/A', 'N/A', 'N/A', 'step_action17:cut', 'N/A', 'N/A', 'step_action20:put', 'N/A', 'N/A', 'N/A']\n",
      "\n",
      "\n",
      "MULTI-VL (input: multimodal):\n",
      "['N/A', 'step_action1:did', 'N/A', 'N/A', 'N/A', 'N/A', 'N/A', 'N/A', 'N/A', 'N/A', 'N/A', 'N/A', 'N/A', 'N/A', 'N/A', 'N/A', 'N/A', 'step_action17:cut', 'N/A', 'N/A', 'step_action20:put', 'N/A', 'N/A', 'N/A']\n",
      "\n",
      "\n",
      "MAM_L (input: unimodal):\n",
      "['N/A', 'step_action1:made', 'N/A', 'N/A', 'N/A', 'N/A', 'N/A', 'N/A', 'N/A', 'N/A', 'N/A', 'N/A', 'N/A', 'N/A', 'N/A', 'N/A', 'N/A', 'step_action17:cut', 'N/A', 'N/A', 'step_action20:put', 'N/A', 'N/A', 'N/A']\n",
      "\n",
      "\n",
      "video id: SPQKafttYkI\n",
      "CAE Reference Action - Object Sequences:\n",
      "['step_action0:(make, [gift])', 'step_action1:(make, [advent])', 'step_action2:(make, [calendar])', 'step_action3:(make, [wall, gift])', 'step_action4:(cut, [piece])', 'step_action5:(cut, [skirt])', 'step_action6:(cut, [these, the])', 'step_action7:(pull, [collection])', 'step_action8:(pull, [different, tag, I])', 'step_action9:(pull, [])', 'step_action10:(pull, [clue])', 'step_action11:(put, [page, a])', 'step_action12:(put, [one, those, you])', 'step_action13:(put, [hint])', 'step_action14:(put, [])', 'step_action15:(put, [na, eight])', 'step_action16:(put, [])', 'step_action17:(put, [clay])', 'step_action18:(hang, [the, video])', 'step_action19:(turn, [the])', 'step_action20:(turn, [])', 'step_action21:(turn, [])', 'step_action22:(rub, [sticker])', 'step_action23:(set, [pajama])', 'step_action24:(spread, [it])', 'step_action25:(sell, [kit, seven])', 'step_action26:(spin, [you])', 'step_action27:(confuse, [])']\n",
      "\n",
      "\n",
      "MAM_VL (input: multimodal):\n",
      "['N/A', 'N/A', 'N/A', 'step_action3:made', 'N/A', 'N/A', 'N/A', 'N/A', 'N/A', 'N/A', 'N/A', 'N/A', 'N/A', 'N/A', 'step_action14:put', 'N/A', 'N/A', 'N/A', 'N/A', 'N/A', 'N/A', 'N/A', 'N/A', 'N/A', 'N/A', 'N/A', 'N/A', 'N/A']\n",
      "\n",
      "\n",
      "MULTI-VL (input: multimodal):\n",
      "['N/A', 'N/A', 'N/A', 'step_action3:made', 'N/A', 'N/A', 'N/A', 'N/A', 'N/A', 'N/A', 'N/A', 'N/A', 'N/A', 'N/A', 'step_action14:put', 'N/A', 'N/A', 'N/A', 'N/A', 'N/A', 'N/A', 'N/A', 'N/A', 'N/A', 'N/A', 'N/A', 'N/A', 'N/A']\n",
      "\n",
      "\n",
      "MAM_L (input: unimodal):\n",
      "['N/A', 'N/A', 'N/A', 'step_action3:made', 'N/A', 'N/A', 'N/A', 'N/A', 'N/A', 'N/A', 'N/A', 'N/A', 'N/A', 'N/A', 'step_action14:put', 'N/A', 'N/A', 'N/A', 'N/A', 'N/A', 'N/A', 'N/A', 'N/A', 'N/A', 'N/A', 'N/A', 'N/A', 'N/A']\n",
      "\n",
      "\n"
     ]
    }
   ],
   "source": [
    "# paprika_titles\n",
    "t = get_random_title(subset_cae_test_df)\n",
    "t_df = subset_cae_test_df[subset_cae_test_df['task_title']==t]\n",
    "t2vids = get_top_rank(t_df, n=10)\n",
    "\n",
    "print('WikiHow Task Name:', t)\n",
    "for vid in t2vids:\n",
    "    print('video id:', vid)\n",
    "    act_obj_seq, vid_seg_seq = get_action_object_sequence(cae_by_vid, vid)\n",
    "    print('CAE Reference Action - Object Sequences:')\n",
    "    print(act_obj_seq)\n",
    "#     print(vid_seg_seq)\n",
    "    print('\\n')\n",
    "    \n",
    "    print('MAM_VL (input: multimodal):')\n",
    "    print(get_prediction_seq(VL_full_df, vid_seg_seq))\n",
    "    print('\\n')\n",
    "    \n",
    "    print('MULTI-VL (input: multimodal):')\n",
    "    print(get_prediction_seq(VL_full_sub_df, vid_seg_seq))\n",
    "    print('\\n')\n",
    "    \n",
    "    print('MAM_L (input: unimodal):')\n",
    "    print(get_prediction_seq(VL_multi_df, vid_seg_seq))\n",
    "    print('\\n')"
   ]
  },
  {
   "cell_type": "markdown",
   "id": "bc81af4d",
   "metadata": {},
   "source": [
    "### Conditioned on a randomly selected task title across domains"
   ]
  },
  {
   "cell_type": "markdown",
   "id": "c2a3ac57",
   "metadata": {},
   "source": [
    "#### food domain"
   ]
  },
  {
   "cell_type": "code",
   "execution_count": 110,
   "id": "d57caee9",
   "metadata": {},
   "outputs": [
    {
     "name": "stdout",
     "output_type": "stream",
     "text": [
      "WikiHow Task Name: Make Parsley Pesto\n",
      "video id Nv_acGiCu0M\n",
      "CAE Reference Action - Object Sequences:\n",
      "['step_action0:(make, [])', 'step_action1:(make, [puree, one, it, it])', 'step_action2:(make, [vinaigrette, salad])', 'step_action3:(break, [shell, they])', 'step_action4:(squeeze, [flavor, lemon, lemon])', 'step_action5:(blend, [thing, leave])', 'step_action6:(mix, [parsley])', 'step_action7:(mix, [meat, salad, bread, stick, risotto])', 'step_action8:(peel, [parsley, garlic])', 'step_action9:(shred, [product, cheese, it])', 'step_action10:(confuse, [the])']\n",
      "\n",
      "\n",
      "MAM_VL (input: multimodal):\n",
      "['N/A', 'N/A', 'N/A', 'step_action3:stick', 'step_action4:peel', 'step_action5:rinse', 'step_action6:spread', 'step_action7:wrapped', 'step_action8:going', 'N/A', 'N/A']\n",
      "\n",
      "\n",
      "MULTI-VL (input: multimodal):\n",
      "['N/A', 'N/A', 'N/A', 'step_action3:are', 'step_action4:put', 'step_action5:cut', 'step_action6:turn', 'step_action7:made', 'step_action8:going', 'N/A', 'N/A']\n",
      "\n",
      "\n",
      "MAM_L (input: unimodal):\n",
      "['N/A', 'N/A', 'N/A', 'step_action3:are', 'step_action4:peel', 'step_action5:wash', 'step_action6:turn', 'step_action7:made', 'step_action8:going', 'N/A', 'N/A']\n",
      "\n",
      "\n",
      "video id 3IvvdLjyod4\n",
      "CAE Reference Action - Object Sequences:\n",
      "['step_action0:(make, [meal])', 'step_action1:(make, [show, guy, lot])', 'step_action2:(make, [four])', 'step_action3:(make, [dip, which])', 'step_action4:(make, [protein, pesto])', 'step_action5:(make, [oil, that, myself])', 'step_action6:(make, [moon])', 'step_action7:(make, [it])', 'step_action8:(make, [thing, what])', 'step_action9:(make, [dip, ship])', 'step_action10:(make, [disease, we])', 'step_action11:(make, [up])', 'step_action12:(make, [it, house])', 'step_action13:(make, [smell, garlic])', 'step_action14:(make, [heart])', 'step_action15:(make, [avocado])', 'step_action16:(make, [])', 'step_action17:(make, [pesto, olive])', 'step_action18:(make, [])', 'step_action19:(make, [popcorn])', 'step_action20:(make, [])', 'step_action21:(make, [dinner, that])', 'step_action22:(make, [salad, spinach])', 'step_action23:(make, [show, episode])', 'step_action24:(cut, [luck, hair])', 'step_action25:(cut, [it, two, I])', 'step_action26:(cut, [cent, criolla])', 'step_action27:(cut, [third])', 'step_action28:(burn, [])', 'step_action29:(break, [one])', 'step_action30:(chop, [head, big])', 'step_action31:(chop, [])', 'step_action32:(chop, [that, spinach])', 'step_action33:(stick, [oven, 375, what, this])', 'step_action34:(throw, [cup, garlic, it])', 'step_action35:(throw, [student, it])', 'step_action36:(throw, [couple, piece, parsley, those])', 'step_action37:(put, [couple, it, water, it, fridge])', 'step_action38:(put, [lot, thing, it, it])', 'step_action39:(put, [almond, that])', 'step_action40:(put, [some, spinach, that, it])', 'step_action41:(put, [it, stab])', 'step_action42:(put, [integrity, taste])', 'step_action43:(put, [advance])', 'step_action44:(put, [that, it, top, 10])', 'step_action45:(put, [time, fourth])', 'step_action46:(put, [minute, equivalent, one])', 'step_action47:(put, [contour])', 'step_action48:(pack, [basil, we])', 'step_action49:(brush, [oil, life, this])', 'step_action50:(wrap, [lodge, party])', 'step_action51:(cook, [it])', 'step_action52:(bake, [this])', 'step_action53:(fix, [bit, side])', 'step_action54:(fix, [plant, we, health, this])', 'step_action55:(blend, [it])', 'step_action56:(blend, [juice, juice, case])', 'step_action57:(blend, [bit, water])', 'step_action58:(blend, [junkie, it])', 'step_action59:(rinse, [mix, bean, you])', 'step_action60:(shoot, [pepper, a])']\n",
      "\n",
      "\n",
      "MAM_VL (input: multimodal):\n",
      "['N/A', 'N/A', 'N/A', 'N/A', 'N/A', 'N/A', 'N/A', 'N/A', 'N/A', 'N/A', 'N/A', 'N/A', 'N/A', 'N/A', 'N/A', 'N/A', 'N/A', 'N/A', 'N/A', 'N/A', 'N/A', 'N/A', 'N/A', 'N/A', 'N/A', 'N/A', 'N/A', 'N/A', 'step_action28:boil', 'step_action29:makes', 'N/A', 'N/A', 'N/A', 'N/A', 'N/A', 'step_action35:fold', 'N/A', 'N/A', 'N/A', 'N/A', 'N/A', 'N/A', 'N/A', 'N/A', 'N/A', 'N/A', 'N/A', 'N/A', 'N/A', 'N/A', 'step_action50:throwing', 'N/A', 'N/A', 'N/A', 'N/A', 'step_action55:sticking', 'N/A', 'step_action57:make', 'N/A', 'N/A', 'N/A']\n",
      "\n",
      "\n",
      "MULTI-VL (input: multimodal):\n",
      "['N/A', 'N/A', 'N/A', 'N/A', 'N/A', 'N/A', 'N/A', 'N/A', 'N/A', 'N/A', 'N/A', 'N/A', 'N/A', 'N/A', 'N/A', 'N/A', 'N/A', 'N/A', 'N/A', 'N/A', 'N/A', 'N/A', 'N/A', 'N/A', 'N/A', 'N/A', 'N/A', 'N/A', 'step_action28:cook', \"step_action29:'s\", 'N/A', 'N/A', 'N/A', 'N/A', 'N/A', 'step_action35:fold', 'N/A', 'N/A', 'N/A', 'N/A', 'N/A', 'N/A', 'N/A', 'N/A', 'N/A', 'N/A', 'N/A', 'N/A', 'N/A', 'N/A', 'step_action50:for', 'N/A', 'N/A', 'N/A', 'N/A', 'step_action55:cooked', 'N/A', 'step_action57:make', 'N/A', 'N/A', 'N/A']\n",
      "\n",
      "\n",
      "MAM_L (input: unimodal):\n",
      "['N/A', 'N/A', 'N/A', 'N/A', 'N/A', 'N/A', 'N/A', 'N/A', 'N/A', 'N/A', 'N/A', 'N/A', 'N/A', 'N/A', 'N/A', 'N/A', 'N/A', 'N/A', 'N/A', 'N/A', 'N/A', 'N/A', 'N/A', 'N/A', 'N/A', 'N/A', 'N/A', 'N/A', 'step_action28:cook', 'step_action29:makes', 'N/A', 'N/A', 'N/A', 'N/A', 'N/A', 'step_action35:fold', 'N/A', 'N/A', 'N/A', 'N/A', 'N/A', 'N/A', 'N/A', 'N/A', 'N/A', 'N/A', 'N/A', 'N/A', 'N/A', 'N/A', 'step_action50:throwing', 'N/A', 'N/A', 'N/A', 'N/A', 'step_action55:cooked', 'N/A', 'step_action57:make', 'N/A', 'N/A', 'N/A']\n",
      "\n",
      "\n"
     ]
    }
   ],
   "source": [
    "# food domain\n",
    "food_t = get_random_title(food)\n",
    "food_t = 'Make Parsley Pesto'\n",
    "food_t_df = food[food['task_title']==food_t]\n",
    "food_t2vids = get_top_rank(food_t_df, n=10)\n",
    "\n",
    "print('WikiHow Task Name:', food_t)\n",
    "for vid in food_t2vids:\n",
    "    print('video id:', vid)\n",
    "    act_obj_seq, vid_seg_seq = get_action_object_sequence(cae_by_vid, vid)\n",
    "    print('CAE Reference Action - Object Sequences:')\n",
    "    print(act_obj_seq)\n",
    "#     print(vid_seg_seq)\n",
    "    print('\\n')\n",
    "    \n",
    "    print('MAM_VL (input: multimodal):')\n",
    "    print(get_prediction_seq(VL_full_df, vid_seg_seq))\n",
    "    print('\\n')\n",
    "    \n",
    "    print('MULTI-VL (input: multimodal):')\n",
    "    print(get_prediction_seq(VL_full_sub_df, vid_seg_seq))\n",
    "    print('\\n')\n",
    "    \n",
    "    print('MAM_L (input: unimodal):')\n",
    "    print(get_prediction_seq(VL_multi_df, vid_seg_seq))\n",
    "    print('\\n')\n",
    "\n"
   ]
  },
  {
   "cell_type": "markdown",
   "id": "ae2f8e19",
   "metadata": {},
   "source": [
    "#### craft domain"
   ]
  },
  {
   "cell_type": "code",
   "execution_count": 49,
   "id": "bcc1214d",
   "metadata": {},
   "outputs": [
    {
     "name": "stdout",
     "output_type": "stream",
     "text": [
      "Make a Ladder Golf Game\n",
      "DkjiWqflqpk\n",
      "['make', 'glue', 'build', 'build', 'build', 'build', 'cut', 'grill', 'paint', 'spray', 'dry']\n",
      "mmMWOC_CNDo\n",
      "['make', 'throw', 'throw', 'throw', 'pull', 'wrap', 'wrap', 'wrap', 'set', 'shoot', 'shoot', 'shoot']\n",
      "MhF9XU-9rZU\n",
      "['throw', 'throw', 'throw', 'knock', 'knock', 'fix', 'set', 'spin']\n"
     ]
    }
   ],
   "source": [
    "# craft domain\n",
    "craft_t = get_random_title(craft)\n",
    "craft_t = 'Make a Ladder Golf Game'\n",
    "craft_t_df = craft[craft['task_title']==craft_t]\n",
    "craft_t2vids = get_top_rank(craft_t_df, cae_by_vid, n=3)\n",
    "get_action_object_sequence(cae_by_vid, vid)\n"
   ]
  },
  {
   "cell_type": "markdown",
   "id": "e025403f",
   "metadata": {},
   "source": [
    "#### home domain"
   ]
  },
  {
   "cell_type": "code",
   "execution_count": 50,
   "id": "09adfb34",
   "metadata": {},
   "outputs": [
    {
     "name": "stdout",
     "output_type": "stream",
     "text": [
      "Remove Beer Stains from Fabric\n",
      "Qa7P5qKf1e4\n",
      "['turn', 'squeeze', 'squeeze', 'set', 'soak']\n",
      "wk_Vmywr-p0\n",
      "['make', 'build', 'mix', 'mix', 'wash', 'wash']\n",
      "i0WG4ZXODS4\n",
      "['break', 'tape', 'rub', 'wash', 'collect']\n"
     ]
    }
   ],
   "source": [
    "home_t = get_random_title(home)\n",
    "home_t = 'Remove Beer Stains from Fabric'\n",
    "home_t_df = home[home['task_title']==home_t]\n",
    "home_t2vids = get_top_rank(home_t_df, cae_by_vid, n=3)\n",
    "get_action_object_sequence(cae_by_vid, vid)"
   ]
  },
  {
   "cell_type": "markdown",
   "id": "a4a85864",
   "metadata": {},
   "source": [
    "### CAE pretrained model Action Sequences"
   ]
  },
  {
   "cell_type": "code",
   "execution_count": 74,
   "id": "fd413757",
   "metadata": {},
   "outputs": [
    {
     "data": {
      "text/plain": [
       "'put'"
      ]
     },
     "execution_count": 74,
     "metadata": {},
     "output_type": "execute_result"
    }
   ],
   "source": []
  }
 ],
 "metadata": {
  "kernelspec": {
   "display_name": "Python 3",
   "language": "python",
   "name": "python3"
  },
  "language_info": {
   "codemirror_mode": {
    "name": "ipython",
    "version": 3
   },
   "file_extension": ".py",
   "mimetype": "text/x-python",
   "name": "python",
   "nbconvert_exporter": "python",
   "pygments_lexer": "ipython3",
   "version": "3.10.8"
  },
  "toc": {
   "base_numbering": 1,
   "nav_menu": {},
   "number_sections": true,
   "sideBar": true,
   "skip_h1_title": false,
   "title_cell": "Table of Contents",
   "title_sidebar": "Contents",
   "toc_cell": false,
   "toc_position": {},
   "toc_section_display": true,
   "toc_window_display": false
  }
 },
 "nbformat": 4,
 "nbformat_minor": 5
}
