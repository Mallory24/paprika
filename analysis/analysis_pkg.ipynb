{
 "cells": [
  {
   "cell_type": "code",
   "execution_count": 1,
   "metadata": {},
   "outputs": [],
   "source": [
    "import pickle\n",
    "import numpy as np\n",
    "import json\n",
    "import os\n",
    "from collections import defaultdict\n",
    "import collections\n",
    "import pandas as pd"
   ]
  },
  {
   "cell_type": "code",
   "execution_count": 2,
   "metadata": {},
   "outputs": [],
   "source": [
    "wikihow_part_dir = '/mount/arbeitsdaten/jp-silberer/ernie_vil/data/pkg_data/wikiHow/partial'\n",
    "wikihow_full_dir = '/mount/arbeitsdaten/jp-silberer/ernie_vil/data/pkg_data/wikiHow/full'\n",
    "\n",
    "howto_dir = '/mount/arbeitsdaten/jp-silberer/ernie_vil/data/pkg_data/howto100m'\n",
    "cae_dir = '/mount/arbeitsdaten/jp-silberer/ernie_vil/data/pkg_data/cae'"
   ]
  },
  {
   "cell_type": "markdown",
   "metadata": {},
   "source": [
    "# Howto100M/CAE tasktitle files"
   ]
  },
  {
   "cell_type": "markdown",
   "metadata": {},
   "source": [
    "### Howto100m"
   ]
  },
  {
   "cell_type": "code",
   "execution_count": 18,
   "metadata": {},
   "outputs": [],
   "source": [
    "howto_df = pd.read_csv(os.path.join(howto_dir, 'HowTo100M_v1.csv'))\n",
    "task_ids_df = pd.read_csv(os.path.join(howto_dir, 'task_ids.csv'), delimiter='\\t', names=['task_id', 'task_title'])"
   ]
  },
  {
   "cell_type": "code",
   "execution_count": 5,
   "metadata": {},
   "outputs": [
    {
     "data": {
      "text/html": [
       "<div>\n",
       "<style scoped>\n",
       "    .dataframe tbody tr th:only-of-type {\n",
       "        vertical-align: middle;\n",
       "    }\n",
       "\n",
       "    .dataframe tbody tr th {\n",
       "        vertical-align: top;\n",
       "    }\n",
       "\n",
       "    .dataframe thead th {\n",
       "        text-align: right;\n",
       "    }\n",
       "</style>\n",
       "<table border=\"1\" class=\"dataframe\">\n",
       "  <thead>\n",
       "    <tr style=\"text-align: right;\">\n",
       "      <th></th>\n",
       "      <th>video_id</th>\n",
       "      <th>category_1</th>\n",
       "      <th>category_2</th>\n",
       "      <th>rank</th>\n",
       "      <th>task_id</th>\n",
       "    </tr>\n",
       "  </thead>\n",
       "  <tbody>\n",
       "    <tr>\n",
       "      <th>0</th>\n",
       "      <td>nVbIUDjzWY4</td>\n",
       "      <td>Cars &amp; Other Vehicles</td>\n",
       "      <td>Motorcycles</td>\n",
       "      <td>27</td>\n",
       "      <td>52907</td>\n",
       "    </tr>\n",
       "    <tr>\n",
       "      <th>1</th>\n",
       "      <td>CTPAZ2euJ2Q</td>\n",
       "      <td>Cars &amp; Other Vehicles</td>\n",
       "      <td>Motorcycles</td>\n",
       "      <td>35</td>\n",
       "      <td>109057</td>\n",
       "    </tr>\n",
       "    <tr>\n",
       "      <th>2</th>\n",
       "      <td>rwmt7Cbuvfs</td>\n",
       "      <td>Cars &amp; Other Vehicles</td>\n",
       "      <td>Motorcycles</td>\n",
       "      <td>99</td>\n",
       "      <td>52907</td>\n",
       "    </tr>\n",
       "    <tr>\n",
       "      <th>3</th>\n",
       "      <td>HnTLh99gcxY</td>\n",
       "      <td>Cars &amp; Other Vehicles</td>\n",
       "      <td>Motorcycles</td>\n",
       "      <td>35</td>\n",
       "      <td>52907</td>\n",
       "    </tr>\n",
       "    <tr>\n",
       "      <th>4</th>\n",
       "      <td>EyP3HVhg1u0</td>\n",
       "      <td>Cars &amp; Other Vehicles</td>\n",
       "      <td>Motorcycles</td>\n",
       "      <td>95</td>\n",
       "      <td>52906</td>\n",
       "    </tr>\n",
       "  </tbody>\n",
       "</table>\n",
       "</div>"
      ],
      "text/plain": [
       "      video_id             category_1   category_2  rank  task_id\n",
       "0  nVbIUDjzWY4  Cars & Other Vehicles  Motorcycles    27    52907\n",
       "1  CTPAZ2euJ2Q  Cars & Other Vehicles  Motorcycles    35   109057\n",
       "2  rwmt7Cbuvfs  Cars & Other Vehicles  Motorcycles    99    52907\n",
       "3  HnTLh99gcxY  Cars & Other Vehicles  Motorcycles    35    52907\n",
       "4  EyP3HVhg1u0  Cars & Other Vehicles  Motorcycles    95    52906"
      ]
     },
     "execution_count": 5,
     "metadata": {},
     "output_type": "execute_result"
    }
   ],
   "source": [
    "howto_df.head()"
   ]
  },
  {
   "cell_type": "code",
   "execution_count": 11,
   "metadata": {},
   "outputs": [
    {
     "name": "stdout",
     "output_type": "stream",
     "text": [
      "123520\n"
     ]
    }
   ],
   "source": [
    "print(len(task_ids_df))"
   ]
  },
  {
   "cell_type": "code",
   "execution_count": 19,
   "metadata": {},
   "outputs": [
    {
     "data": {
      "text/html": [
       "<div>\n",
       "<style scoped>\n",
       "    .dataframe tbody tr th:only-of-type {\n",
       "        vertical-align: middle;\n",
       "    }\n",
       "\n",
       "    .dataframe tbody tr th {\n",
       "        vertical-align: top;\n",
       "    }\n",
       "\n",
       "    .dataframe thead th {\n",
       "        text-align: right;\n",
       "    }\n",
       "</style>\n",
       "<table border=\"1\" class=\"dataframe\">\n",
       "  <thead>\n",
       "    <tr style=\"text-align: right;\">\n",
       "      <th></th>\n",
       "      <th>video_id</th>\n",
       "      <th>category_1</th>\n",
       "      <th>category_2</th>\n",
       "      <th>rank</th>\n",
       "      <th>task_id</th>\n",
       "      <th>task_title</th>\n",
       "    </tr>\n",
       "  </thead>\n",
       "  <tbody>\n",
       "    <tr>\n",
       "      <th>0</th>\n",
       "      <td>nVbIUDjzWY4</td>\n",
       "      <td>Cars &amp; Other Vehicles</td>\n",
       "      <td>Motorcycles</td>\n",
       "      <td>27</td>\n",
       "      <td>52907</td>\n",
       "      <td>Paint a Motorcycle</td>\n",
       "    </tr>\n",
       "    <tr>\n",
       "      <th>1</th>\n",
       "      <td>rwmt7Cbuvfs</td>\n",
       "      <td>Cars &amp; Other Vehicles</td>\n",
       "      <td>Motorcycles</td>\n",
       "      <td>99</td>\n",
       "      <td>52907</td>\n",
       "      <td>Paint a Motorcycle</td>\n",
       "    </tr>\n",
       "    <tr>\n",
       "      <th>2</th>\n",
       "      <td>HnTLh99gcxY</td>\n",
       "      <td>Cars &amp; Other Vehicles</td>\n",
       "      <td>Motorcycles</td>\n",
       "      <td>35</td>\n",
       "      <td>52907</td>\n",
       "      <td>Paint a Motorcycle</td>\n",
       "    </tr>\n",
       "    <tr>\n",
       "      <th>3</th>\n",
       "      <td>RAidUDTPZ-k</td>\n",
       "      <td>Cars &amp; Other Vehicles</td>\n",
       "      <td>Motorcycles</td>\n",
       "      <td>10</td>\n",
       "      <td>52907</td>\n",
       "      <td>Paint a Motorcycle</td>\n",
       "    </tr>\n",
       "    <tr>\n",
       "      <th>4</th>\n",
       "      <td>tYQoPHwNkho</td>\n",
       "      <td>Cars &amp; Other Vehicles</td>\n",
       "      <td>Motorcycles</td>\n",
       "      <td>18</td>\n",
       "      <td>52907</td>\n",
       "      <td>Paint a Motorcycle</td>\n",
       "    </tr>\n",
       "  </tbody>\n",
       "</table>\n",
       "</div>"
      ],
      "text/plain": [
       "      video_id             category_1   category_2  rank  task_id  \\\n",
       "0  nVbIUDjzWY4  Cars & Other Vehicles  Motorcycles    27    52907   \n",
       "1  rwmt7Cbuvfs  Cars & Other Vehicles  Motorcycles    99    52907   \n",
       "2  HnTLh99gcxY  Cars & Other Vehicles  Motorcycles    35    52907   \n",
       "3  RAidUDTPZ-k  Cars & Other Vehicles  Motorcycles    10    52907   \n",
       "4  tYQoPHwNkho  Cars & Other Vehicles  Motorcycles    18    52907   \n",
       "\n",
       "           task_title  \n",
       "0  Paint a Motorcycle  \n",
       "1  Paint a Motorcycle  \n",
       "2  Paint a Motorcycle  \n",
       "3  Paint a Motorcycle  \n",
       "4  Paint a Motorcycle  "
      ]
     },
     "execution_count": 19,
     "metadata": {},
     "output_type": "execute_result"
    }
   ],
   "source": [
    "# get task_id to task_title information\n",
    "howto_taskid2title_df = pd.merge(howto_df, task_ids_df, on='task_id')\n",
    "howto_taskid2title_df.head()"
   ]
  },
  {
   "cell_type": "code",
   "execution_count": 20,
   "metadata": {},
   "outputs": [],
   "source": [
    "howto_taskid2title = dict(zip(howto_taskid2title_df['task_id'], howto_taskid2title_df['task_title']))\n",
    "howto_title2taskid = {'How to ' + title: taskid for taskid, title in howto_taskid2title.items()}"
   ]
  },
  {
   "cell_type": "code",
   "execution_count": 21,
   "metadata": {},
   "outputs": [
    {
     "data": {
      "text/plain": [
       "25312"
      ]
     },
     "execution_count": 21,
     "metadata": {},
     "output_type": "execute_result"
    }
   ],
   "source": [
    "howto_tasknames = set(list(howto_title2taskid.keys()))\n",
    "len(howto_tasknames)"
   ]
  },
  {
   "cell_type": "markdown",
   "metadata": {},
   "source": [
    "### CAE"
   ]
  },
  {
   "cell_type": "code",
   "execution_count": 6,
   "metadata": {},
   "outputs": [],
   "source": [
    "cae_by_vid = json.load(open(os.path.join(cae_dir,'single_result_verbs_video_clips_by_vid.json'), 'r'))\n",
    "cae_vids = list(cae_by_vid.keys())"
   ]
  },
  {
   "cell_type": "code",
   "execution_count": 10,
   "metadata": {},
   "outputs": [],
   "source": [
    "cae_meta_df = howto_df[howto_df['video_id'].isin(cae_vids)]"
   ]
  },
  {
   "cell_type": "code",
   "execution_count": 12,
   "metadata": {},
   "outputs": [],
   "source": [
    "with open(os.path.join(cae_dir,'cae_video_meta.csv'), 'w') as f:\n",
    "    cae_meta_df.to_csv(f, index=False)"
   ]
  },
  {
   "cell_type": "code",
   "execution_count": 7,
   "metadata": {},
   "outputs": [
    {
     "data": {
      "text/html": [
       "<div>\n",
       "<style scoped>\n",
       "    .dataframe tbody tr th:only-of-type {\n",
       "        vertical-align: middle;\n",
       "    }\n",
       "\n",
       "    .dataframe tbody tr th {\n",
       "        vertical-align: top;\n",
       "    }\n",
       "\n",
       "    .dataframe thead th {\n",
       "        text-align: right;\n",
       "    }\n",
       "</style>\n",
       "<table border=\"1\" class=\"dataframe\">\n",
       "  <thead>\n",
       "    <tr style=\"text-align: right;\">\n",
       "      <th></th>\n",
       "      <th>video_id</th>\n",
       "      <th>category_1</th>\n",
       "      <th>category_2</th>\n",
       "      <th>rank</th>\n",
       "      <th>task_id</th>\n",
       "      <th>task_title</th>\n",
       "    </tr>\n",
       "  </thead>\n",
       "  <tbody>\n",
       "    <tr>\n",
       "      <th>3</th>\n",
       "      <td>RAidUDTPZ-k</td>\n",
       "      <td>Cars &amp; Other Vehicles</td>\n",
       "      <td>Motorcycles</td>\n",
       "      <td>10</td>\n",
       "      <td>52907</td>\n",
       "      <td>Paint a Motorcycle</td>\n",
       "    </tr>\n",
       "    <tr>\n",
       "      <th>5</th>\n",
       "      <td>DUxVMAebfrM</td>\n",
       "      <td>Cars &amp; Other Vehicles</td>\n",
       "      <td>Motorcycles</td>\n",
       "      <td>131</td>\n",
       "      <td>52907</td>\n",
       "      <td>Paint a Motorcycle</td>\n",
       "    </tr>\n",
       "    <tr>\n",
       "      <th>9</th>\n",
       "      <td>UHA1Q5JK3_A</td>\n",
       "      <td>Cars &amp; Other Vehicles</td>\n",
       "      <td>Motorcycles</td>\n",
       "      <td>113</td>\n",
       "      <td>52907</td>\n",
       "      <td>Paint a Motorcycle</td>\n",
       "    </tr>\n",
       "    <tr>\n",
       "      <th>19</th>\n",
       "      <td>tTx8mid-aq4</td>\n",
       "      <td>Cars &amp; Other Vehicles</td>\n",
       "      <td>Motorcycles</td>\n",
       "      <td>116</td>\n",
       "      <td>52907</td>\n",
       "      <td>Paint a Motorcycle</td>\n",
       "    </tr>\n",
       "    <tr>\n",
       "      <th>28</th>\n",
       "      <td>BYZcEXxdTjU</td>\n",
       "      <td>Cars &amp; Other Vehicles</td>\n",
       "      <td>Motorcycles</td>\n",
       "      <td>103</td>\n",
       "      <td>52907</td>\n",
       "      <td>Paint a Motorcycle</td>\n",
       "    </tr>\n",
       "  </tbody>\n",
       "</table>\n",
       "</div>"
      ],
      "text/plain": [
       "       video_id             category_1   category_2  rank  task_id  \\\n",
       "3   RAidUDTPZ-k  Cars & Other Vehicles  Motorcycles    10    52907   \n",
       "5   DUxVMAebfrM  Cars & Other Vehicles  Motorcycles   131    52907   \n",
       "9   UHA1Q5JK3_A  Cars & Other Vehicles  Motorcycles   113    52907   \n",
       "19  tTx8mid-aq4  Cars & Other Vehicles  Motorcycles   116    52907   \n",
       "28  BYZcEXxdTjU  Cars & Other Vehicles  Motorcycles   103    52907   \n",
       "\n",
       "            task_title  \n",
       "3   Paint a Motorcycle  \n",
       "5   Paint a Motorcycle  \n",
       "9   Paint a Motorcycle  \n",
       "19  Paint a Motorcycle  \n",
       "28  Paint a Motorcycle  "
      ]
     },
     "execution_count": 7,
     "metadata": {},
     "output_type": "execute_result"
    }
   ],
   "source": [
    "# get all cae\n",
    "cae_taskid2title_df = howto_taskid2title_df[howto_taskid2title_df['video_id'].isin(cae_vids)]\n",
    "cae_taskid2title_df.head()"
   ]
  },
  {
   "cell_type": "code",
   "execution_count": 14,
   "metadata": {},
   "outputs": [
    {
     "name": "stdout",
     "output_type": "stream",
     "text": [
      "CAE unique tasks: 25258\n",
      "Not in Howto100M 54\n"
     ]
    }
   ],
   "source": [
    "cae_tasktitles = set(cae_taskid2title_df['task_title'])\n",
    "print('CAE unique tasks:', len(cae_tasktitles))\n",
    "print('Not in Howto100M:',len(howto100m_tasktitles - cae_tasktitles))"
   ]
  },
  {
   "cell_type": "markdown",
   "metadata": {},
   "source": [
    "## Domains - Tasktitles Files"
   ]
  },
  {
   "cell_type": "code",
   "execution_count": 7,
   "metadata": {},
   "outputs": [],
   "source": [
    "def get_domain2tasktitles(cae_taskid2title_df):\n",
    "    categories = set(cae_taskid2title_df['category_1'].to_list())\n",
    "    result = {}\n",
    "\n",
    "    for cat in categories:\n",
    "        result[cat] = list(set(cae_taskid2title_df[cae_taskid2title_df['category_1']==cat]['task_title'].to_list()))\n",
    "    return result\n",
    "\n",
    "def get_tasktitles2domain(domain2tasktitlles):\n",
    "    tasktitles2domain = {}\n",
    "    \n",
    "    for d, tasktitles in domain2tasktitlles.items():\n",
    "        for t in tasktitles:\n",
    "            t = 'How to ' + t\n",
    "            tasktitles2domain[t] = d\n",
    "    return tasktitles2domain\n",
    "\n",
    "\n",
    "domain2tasktitlles = get_domain2tasktitles(cae_taskid2title_df)\n",
    "tasktitles2domain = get_tasktitles2domain(domain2tasktitlles)"
   ]
  },
  {
   "cell_type": "markdown",
   "metadata": {},
   "source": [
    "# WikiHow files"
   ]
  },
  {
   "cell_type": "code",
   "execution_count": 8,
   "metadata": {},
   "outputs": [],
   "source": [
    "# Applicable for Global\n",
    "def get_taskid2stepid(wikihow):\n",
    "    step_id = 0\n",
    "    article_po_to_step_id = defaultdict()\n",
    "    step_id_to_headline = defaultdict()\n",
    "    article_to_step_id = defaultdict(list)\n",
    "\n",
    "    for article_id in range(len(wikihow)):\n",
    "        for article_step_idx in range(len(wikihow[article_id])):\n",
    "            article_po_to_step_id[(article_id, article_step_idx)] = step_id\n",
    "            step_id_to_headline[step_id] = wikihow[article_id][article_step_idx]['headline'].strip(\"\\n\")\n",
    "            article_to_step_id[article_id].append(step_id)\n",
    "            step_id += 1\n",
    "    total_num_steps = len(article_po_to_step_id)\n",
    "    return article_po_to_step_id, step_id_to_headline"
   ]
  },
  {
   "cell_type": "markdown",
   "metadata": {},
   "source": [
    "## Full WikiHow version (num_tasks: 215, 365)"
   ]
  },
  {
   "cell_type": "code",
   "execution_count": 9,
   "metadata": {
    "scrolled": true
   },
   "outputs": [],
   "source": [
    "wikihow_all_df = pd.read_csv(os.path.join(wikihow_full_dir, 'wikihowAll.csv'))"
   ]
  },
  {
   "cell_type": "code",
   "execution_count": 10,
   "metadata": {},
   "outputs": [
    {
     "name": "stdout",
     "output_type": "stream",
     "text": [
      "214294\n"
     ]
    },
    {
     "data": {
      "text/html": [
       "<div>\n",
       "<style scoped>\n",
       "    .dataframe tbody tr th:only-of-type {\n",
       "        vertical-align: middle;\n",
       "    }\n",
       "\n",
       "    .dataframe tbody tr th {\n",
       "        vertical-align: top;\n",
       "    }\n",
       "\n",
       "    .dataframe thead th {\n",
       "        text-align: right;\n",
       "    }\n",
       "</style>\n",
       "<table border=\"1\" class=\"dataframe\">\n",
       "  <thead>\n",
       "    <tr style=\"text-align: right;\">\n",
       "      <th></th>\n",
       "      <th>headline</th>\n",
       "      <th>title</th>\n",
       "      <th>text</th>\n",
       "    </tr>\n",
       "  </thead>\n",
       "  <tbody>\n",
       "    <tr>\n",
       "      <th>0</th>\n",
       "      <td>\\nKeep related supplies in the same area.,\\nMa...</td>\n",
       "      <td>How to Be an Organized Artist1</td>\n",
       "      <td>If you're a photographer, keep all the necess...</td>\n",
       "    </tr>\n",
       "    <tr>\n",
       "      <th>1</th>\n",
       "      <td>\\nCreate a sketch in the NeoPopRealist manner ...</td>\n",
       "      <td>How to Create a Neopoprealist Art Work</td>\n",
       "      <td>See the image for how this drawing develops s...</td>\n",
       "    </tr>\n",
       "    <tr>\n",
       "      <th>2</th>\n",
       "      <td>\\nGet a bachelor’s degree.,\\nEnroll in a studi...</td>\n",
       "      <td>How to Be a Visual Effects Artist1</td>\n",
       "      <td>It is possible to become a VFX artist without...</td>\n",
       "    </tr>\n",
       "    <tr>\n",
       "      <th>3</th>\n",
       "      <td>\\nStart with some experience or interest in ar...</td>\n",
       "      <td>How to Become an Art Investor</td>\n",
       "      <td>The best art investors do their research on t...</td>\n",
       "    </tr>\n",
       "    <tr>\n",
       "      <th>4</th>\n",
       "      <td>\\nKeep your reference materials, sketches, art...</td>\n",
       "      <td>How to Be an Organized Artist2</td>\n",
       "      <td>As you start planning for a project or work, ...</td>\n",
       "    </tr>\n",
       "  </tbody>\n",
       "</table>\n",
       "</div>"
      ],
      "text/plain": [
       "                                            headline  \\\n",
       "0  \\nKeep related supplies in the same area.,\\nMa...   \n",
       "1  \\nCreate a sketch in the NeoPopRealist manner ...   \n",
       "2  \\nGet a bachelor’s degree.,\\nEnroll in a studi...   \n",
       "3  \\nStart with some experience or interest in ar...   \n",
       "4  \\nKeep your reference materials, sketches, art...   \n",
       "\n",
       "                                    title  \\\n",
       "0          How to Be an Organized Artist1   \n",
       "1  How to Create a Neopoprealist Art Work   \n",
       "2      How to Be a Visual Effects Artist1   \n",
       "3           How to Become an Art Investor   \n",
       "4          How to Be an Organized Artist2   \n",
       "\n",
       "                                                text  \n",
       "0   If you're a photographer, keep all the necess...  \n",
       "1   See the image for how this drawing develops s...  \n",
       "2   It is possible to become a VFX artist without...  \n",
       "3   The best art investors do their research on t...  \n",
       "4   As you start planning for a project or work, ...  "
      ]
     },
     "execution_count": 10,
     "metadata": {},
     "output_type": "execute_result"
    }
   ],
   "source": [
    "wikihow_full_df = wikihow_all_df.dropna()\n",
    "wikihow_full_tasknames = wikihow_full_df['title'].to_list()\n",
    "print(len(wikihow_full_tasknames))\n",
    "wikihow_full_df.head()"
   ]
  },
  {
   "cell_type": "markdown",
   "metadata": {},
   "source": [
    "## Partial WikiHow version (num_tasks: 1053, used by Paprika)"
   ]
  },
  {
   "cell_type": "code",
   "execution_count": 6,
   "metadata": {},
   "outputs": [],
   "source": [
    "# insepct already extracted step features\n",
    "with open(os.path.join(wikihow_part_dir, 'step_headlines/s3d_text_feats', 'step_embeddings.pickle'), 'rb') as f:\n",
    "    wikihow_step_feats = pickle.load(f)"
   ]
  },
  {
   "cell_type": "code",
   "execution_count": 7,
   "metadata": {
    "code_folding": []
   },
   "outputs": [],
   "source": [
    "# the version Paprika use\n",
    "with open(os.path.join(wikihow_part_dir, 'step_label_text.json'), 'r') as f:\n",
    "    wikihow = json.load(f)\n",
    "\n",
    "with open(os.path.join(wikihow_part_dir, 'step_label.json'), 'r') as f:\n",
    "    wikihow_steps = json.load(f)\n",
    "    \n",
    "with open(os.path.join(wikihow_part_dir, 'article_id_to_title.txt'), 'r') as f:\n",
    "    article_id_to_wikihow_taskname = {\n",
    "        int(line.rstrip().split('\\t')[0]): line.rstrip().split('\\t')[1] for line in f.readlines()}\n",
    "\n",
    "with open(os.path.join(wikihow_part_dir, 'article_id_to_title.txt'), 'r') as f:\n",
    "    wikihow_taskname_to_article_id = {\n",
    "        line.rstrip().split('\\t')[1]: int(line.rstrip().split('\\t')[0]) for line in f.readlines()}"
   ]
  },
  {
   "cell_type": "code",
   "execution_count": 8,
   "metadata": {},
   "outputs": [
    {
     "name": "stdout",
     "output_type": "stream",
     "text": [
      "1053\n"
     ]
    }
   ],
   "source": [
    "wikihow_tasknames = list(wikihow_taskname_to_article_id.keys())\n",
    "print(len(wikihow_tasknames))"
   ]
  },
  {
   "cell_type": "markdown",
   "metadata": {},
   "source": [
    "### Misc."
   ]
  },
  {
   "cell_type": "code",
   "execution_count": 18,
   "metadata": {},
   "outputs": [
    {
     "name": "stdout",
     "output_type": "stream",
     "text": [
      "?% of HowTo100M tasks has exact overlap with\n",
      "wikihow FULL: 67.4581226295828\n",
      "wikihow PARTIAL: 2.8168457648546146\n"
     ]
    }
   ],
   "source": [
    "print('?% of HowTo100M tasks has exact overlap with')\n",
    "print('wikihow FULL:', len(howto_tasknames & set(wikihow_full_tasknames))/len(howto_tasknames)*100)\n",
    "print('wikihow PARTIAL:', len(howto_tasknames & set(wikihow_tasknames))/len(howto_tasknames)*100)"
   ]
  },
  {
   "cell_type": "code",
   "execution_count": 19,
   "metadata": {},
   "outputs": [],
   "source": [
    "joint_full = howto_tasknames & set(wikihow_full_tasknames)\n",
    "joint_partial = howto_tasknames & set(wikihow_tasknames)"
   ]
  },
  {
   "cell_type": "code",
   "execution_count": 21,
   "metadata": {},
   "outputs": [],
   "source": [
    "howto_joint_partial_taskid = [howto_title2taskid.get(t) for t in list(joint_partial)]\n",
    "howto_joint_full_taskid = [howto_title2taskid.get(t) for t in list(joint_full)]"
   ]
  },
  {
   "cell_type": "code",
   "execution_count": 22,
   "metadata": {},
   "outputs": [
    {
     "data": {
      "text/plain": [
       "[74650, 44831, 95132]"
      ]
     },
     "execution_count": 22,
     "metadata": {},
     "output_type": "execute_result"
    }
   ],
   "source": [
    "# TO USE: for evaluating the clustering quality in task similarities\n",
    "howto_joint_partial_taskid[:3]"
   ]
  },
  {
   "cell_type": "markdown",
   "metadata": {},
   "source": [
    "### Task 2 Steps (Global Graph)"
   ]
  },
  {
   "cell_type": "code",
   "execution_count": 10,
   "metadata": {},
   "outputs": [
    {
     "data": {
      "text/plain": [
       "['Prepare the site.',\n",
       " 'Lay a piece of string on the soil as a guide to make sure you dig the row in a straight line.',\n",
       " 'Use a cane, or other tool, to dig a narrow hole that you will place the seeds in.',\n",
       " 'Using a hoe, gently cover the seeds with soil.',\n",
       " 'If the soil is dry, water the seeds in.',\n",
       " 'To protect your plants from late frosts in Spring, build a frame to cover the drills.']"
      ]
     },
     "execution_count": 10,
     "metadata": {},
     "output_type": "execute_result"
    }
   ],
   "source": [
    "a_id = wikihow_taskname_to_article_id.get('How to Plant Parsnips')\n",
    "wikihow_steps[a_id]"
   ]
  },
  {
   "cell_type": "code",
   "execution_count": 14,
   "metadata": {},
   "outputs": [],
   "source": [
    "article_po_to_step_id, step_id_to_headline = get_taskid2stepid(wikihow)"
   ]
  },
  {
   "cell_type": "markdown",
   "metadata": {},
   "source": [
    "### Node 2 Steps"
   ]
  },
  {
   "cell_type": "code",
   "execution_count": 16,
   "metadata": {},
   "outputs": [],
   "source": [
    "# node2step & step2node (defaultdict)\n",
    "with open(os.path.join(wikihow_part_dir, 'node2step.pickle'), 'rb') as f:\n",
    "    node2step = pickle.load(f)\n",
    "\n",
    "with open(os.path.join(wikihow_part_dir, 'step2node.pickle'), 'rb') as f:\n",
    "    step2node = pickle.load(f)"
   ]
  },
  {
   "cell_type": "code",
   "execution_count": 17,
   "metadata": {},
   "outputs": [],
   "source": [
    "num_steps = len(step2node) # 10,588\n",
    "# TODO: quality check if the clustering of steps makes sense\n",
    "num_nodes = len(node2step) # 10,388"
   ]
  },
  {
   "cell_type": "markdown",
   "metadata": {},
   "source": [
    "# (Outdated) Obtain the video subset for analysis\n",
    "- select 5 tasks across 13 domains, in total 65 task titles, resulting in 831 videos\n",
    "- ?% of CAE tasks has exact overlap with\n",
    "    - wikihow FULL 67.49\n",
    "    - wikihow PARTIAL 2.82"
   ]
  },
  {
   "cell_type": "code",
   "execution_count": 8,
   "metadata": {},
   "outputs": [],
   "source": [
    "def get_videoid2taskname(video_meta_df, task_ids_df):        \n",
    "    task_id_to_task_name_original_map = dict()\n",
    "    for index, row in task_ids_df.iterrows():\n",
    "        task_id = row[0]\n",
    "        task_name = row[1]\n",
    "        task_id_to_task_name_original_map[task_id] = task_name\n",
    "    \n",
    "    video_id_to_task_name = dict()\n",
    "    video_id_to_task_id = dict()\n",
    "    for index, row in video_meta_df.iterrows():\n",
    "        video_id = row['video_id']\n",
    "        task_id = row['task_id']\n",
    "        video_id_to_task_id[video_id] = task_id\n",
    "        video_id_to_task_name[video_id] = 'How to ' + task_id_to_task_name_original_map[task_id]\n",
    "    \n",
    "    return video_id_to_task_name, video_id_to_task_id\n",
    "\n",
    "video_id_to_task_name, video_id_to_task_id = get_videoid2taskname(howto_df, task_ids_df)"
   ]
  },
  {
   "cell_type": "code",
   "execution_count": 10,
   "metadata": {},
   "outputs": [],
   "source": [
    "saved_path = '/mount/projekte/jp-silberer/hyuyang/paprika/S3D_HowTo100M/sampled_vids.txt'\n",
    "with open(saved_path, 'r') as f:\n",
    "    sampled_vids = [line.rstrip() for line in f.readlines()]"
   ]
  },
  {
   "cell_type": "code",
   "execution_count": 11,
   "metadata": {},
   "outputs": [
    {
     "data": {
      "text/plain": [
       "65"
      ]
     },
     "execution_count": 11,
     "metadata": {},
     "output_type": "execute_result"
    }
   ],
   "source": [
    "sampled_taskids = set([video_id_to_task_id.get(vid) for vid in sampled_vids])\n",
    "len(sampled_taskids)"
   ]
  },
  {
   "cell_type": "code",
   "execution_count": 46,
   "metadata": {},
   "outputs": [
    {
     "data": {
      "text/plain": [
       "[('Food and Entertaining', 208),\n",
       " ('Home and Garden', 139),\n",
       " ('Hobbies and Crafts', 126),\n",
       " ('Cars & Other Vehicles', 56),\n",
       " ('Arts and Entertainment', 49),\n",
       " ('Pets and Animals', 45),\n",
       " ('Education and Communications', 41),\n",
       " ('Sports and Fitness', 40),\n",
       " ('Family Life', 36),\n",
       " ('Holidays and Traditions', 26),\n",
       " ('Personal Care and Style', 23),\n",
       " ('Health', 23),\n",
       " ('Computers and Electronics', 19)]"
      ]
     },
     "execution_count": 46,
     "metadata": {},
     "output_type": "execute_result"
    }
   ],
   "source": [
    "# sampled videos across domains\n",
    "domains = cae_taskid2title_df[cae_taskid2title_df['video_id'].isin(sampled_vids)]['category_1'].to_list()\n",
    "collections.Counter(domains).most_common()"
   ]
  },
  {
   "cell_type": "markdown",
   "metadata": {},
   "source": [
    "# PKG"
   ]
  },
  {
   "cell_type": "markdown",
   "metadata": {},
   "source": [
    "## Decoding PKG helper functions"
   ]
  },
  {
   "cell_type": "code",
   "execution_count": 3,
   "metadata": {
    "code_folding": []
   },
   "outputs": [],
   "source": [
    "def find_node_transitions(adj_matrix, start_node):\n",
    "    # DFS traversal\n",
    "    num_nodes = adj_matrix.shape[0]  # Use the number of rows from the shape of the matrix\n",
    "    transitions = []\n",
    "    visited = [False] * num_nodes\n",
    "\n",
    "    def dfs(node, transition):\n",
    "        visited[node] = True\n",
    "        transition.append(node)\n",
    "#         print('transition', transition)\n",
    "\n",
    "        if not np.any(adj_matrix[node]):  # Use np.any to check if there are outgoing neighbors to serve as end nodes\n",
    "            transitions.append(transition[:])  # Add a copy of the transition to the list\n",
    "\n",
    "        for neighbor, connected in enumerate(adj_matrix[node]):\n",
    "            if connected and not visited[neighbor]:\n",
    "                dfs(neighbor, transition)\n",
    "\n",
    "        visited[node] = False\n",
    "        transition.pop()  # Remove the last node to backtrack and explore other options\n",
    "\n",
    "    dfs(start_node, [])\n",
    "\n",
    "    return transitions\n",
    "\n",
    "def find_node_transitions_with_end_node(adj_matrix, start_node, end_node):\n",
    "    num_nodes = adj_matrix.shape[0]  # Use the number of rows from the shape of the matrix\n",
    "    transitions = []\n",
    "    visited = [False] * num_nodes\n",
    "\n",
    "    def dfs(node, transition):\n",
    "        visited[node] = True\n",
    "        transition.append(node)\n",
    "\n",
    "        if node == end_node or not np.any(adj_matrix[node]):  # Define end node or use np.any to check if there are outgoing neighbors\n",
    "            transitions.append(transition[:])  # Add a copy of the transition to the list\n",
    "\n",
    "        for neighbor, connected in enumerate(adj_matrix[node]):\n",
    "            if connected and not visited[neighbor]:\n",
    "                print(connected)\n",
    "                dfs(neighbor, transition)\n",
    "\n",
    "        visited[node] = False # to \n",
    "        transition.pop()  # Remove the last node to backtrack and explore other options\n",
    "\n",
    "    dfs(start_node, [])\n",
    "\n",
    "    return transitions\n",
    "\n",
    "def find_node_transitions_with_threshold(adj_matrix, start_node, end_node, threshold=0.9):\n",
    "    num_nodes = adj_matrix.shape[0]  # Use the number of rows from the shape of the matrix\n",
    "    transitions = []\n",
    "    visited = [False] * num_nodes\n",
    "\n",
    "    def dfs(node, transition):\n",
    "        visited[node] = True\n",
    "        transition.append(node)\n",
    "\n",
    "        if node == end_node or not np.any(adj_matrix[node]):  # Define end node or use np.any to check if there are outgoing neighbors\n",
    "            transitions.append(transition[:])  # Add a copy of the transition to the list\n",
    "\n",
    "#         print('node', node)\n",
    "        for neighbor, connected in enumerate(adj_matrix[node]):\n",
    "            if connected > threshold and not visited[neighbor]:\n",
    "#                 print('neighbor', neighbor)\n",
    "#                 print('connected', connected)\n",
    "                dfs(neighbor, transition)\n",
    "\n",
    "        visited[node] = False # to \n",
    "        transition.pop()  # Remove the last node to backtrack and explore other options\n",
    "\n",
    "    dfs(start_node, [])\n",
    "\n",
    "    return transitions\n",
    "\n",
    "\n",
    "def find_node_transitions_with_depth(adj_matrix, start_node, depth_count):\n",
    "    # TODO: it would be better to take the score into account\n",
    "    num_nodes = adj_matrix.shape[0]  # Use the number of rows from the shape of the matrix\n",
    "    transitions = []\n",
    "    visited = [False] * num_nodes\n",
    "\n",
    "    def dfs(node, transition, depth):        \n",
    "        visited[node] = True\n",
    "        transition.append(node)\n",
    "\n",
    "        if not np.any(adj_matrix[node]) or depth >= depth_count:  # Define end node or use np.any to check if there are outgoing neighbors\n",
    "            transitions.append(transition[:])  # Add a copy of the transition to the list\n",
    "            visited[node] = False  # Reset visited status to explore other options\n",
    "            transition.pop()  # Remove the last node to backtrack\n",
    "            return\n",
    "        \n",
    "        for neighbor, connected in enumerate(adj_matrix[node]):\n",
    "            if connected and not visited[neighbor]:\n",
    "                dfs(neighbor, transition, depth + 1)\n",
    "\n",
    "        visited[node] = False  \n",
    "        transition.pop()  # Remove the last node to backtrack and explore other options\n",
    "        \n",
    "    dfs(start_node, [], depth=0)\n",
    "\n",
    "    return transitions\n",
    "\n",
    "def find_node_transitions_within_range(adj_matrix, start_node, node_range=None):\n",
    "    num_nodes = adj_matrix.shape[0]  # Use the number of rows from the shape of the matrix\n",
    "    transitions = []\n",
    "    visited = [False] * num_nodes\n",
    "\n",
    "    def dfs(node, transition):        \n",
    "        visited[node] = True\n",
    "        transition.append(node)\n",
    "            \n",
    "        if not np.any(adj_matrix[node]):  # Define end node or use np.any to check if there are outgoing neighbors\n",
    "            print('node meets end criteria', node)\n",
    "            transitions.append(transition[:])  # Add a copy of the transition to the list\n",
    "            visited[node] = False  # Reset visited status to explore other options\n",
    "            transition.pop()  # Remove the last node to backtrack\n",
    "            return\n",
    "        \n",
    "        for neighbor, connected in enumerate(adj_matrix[node]):\n",
    "            # connected means > 0\n",
    "            print('current node', node)\n",
    "            if connected and not visited[neighbor] and neighbor in node_range:\n",
    "                print('neighbor', neighbor)\n",
    "                dfs(neighbor, transition)\n",
    "\n",
    "        visited[node] = False  \n",
    "        transition.pop()  # Remove the last node to backtrack and explore other options\n",
    "        \n",
    "    dfs(start_node, [])\n",
    "\n",
    "    return transitions\n"
   ]
  },
  {
   "cell_type": "markdown",
   "metadata": {},
   "source": [
    "### Quick Test:"
   ]
  },
  {
   "cell_type": "code",
   "execution_count": 10,
   "metadata": {},
   "outputs": [
    {
     "name": "stdout",
     "output_type": "stream",
     "text": [
      "node 0\n",
      "neighbor 1\n",
      "connected 0.96685672\n",
      "node 1\n",
      "neighbor 2\n",
      "connected 0.988693\n",
      "node 2\n",
      "neighbor 3\n",
      "connected 0.90284238\n",
      "node 3\n",
      "neighbor 2\n",
      "connected 0.96839132\n",
      "node 2\n",
      "neighbor 1\n",
      "connected 1.0\n",
      "node 1\n",
      "neighbor 3\n",
      "connected 0.90284238\n",
      "node 3\n",
      "Node Transitions with Start and End Node + Threshold: [[0, 1, 3], [0, 2, 1, 3]]\n"
     ]
    }
   ],
   "source": [
    "# Quick test\n",
    "# Example adjacency matrix as a NumPy array\n",
    "adj_matrix = np.array([\n",
    "    [0, 1, 0, 0, 0, 0, 0],\n",
    "    [1, 0, 0, 1, 0, 0, 0],\n",
    "    [0, 0, 0, 1, 0, 0, 0],\n",
    "    [0, 0, 0, 0, 1, 1, 1],\n",
    "    [0, 0, 0, 0, 0, 0, 0],\n",
    "    [0, 0, 0, 0, 0, 0, 1],\n",
    "    [0, 0, 0, 0, 0, 0, 0]\n",
    "])\n",
    "\n",
    "score_adj_matrix = np.array([\n",
    "    [0, 1, 0, 0, 0, 0, 0],\n",
    "    [1, 0, 0, 1, 0, 0, 0],\n",
    "    [0, 0, 0, 1, 0, 0, 0],\n",
    "    [0, 0, 0, 0, 0.5, 1, 0.7],\n",
    "    [0, 0, 0, 0, 0, 0, 0],\n",
    "    [0, 0, 0, 0, 0, 0, 1],\n",
    "    [0, 0, 0, 0, 0, 0, 0]\n",
    "])\n",
    "\n",
    "score_adj_matrix = np.array([\n",
    "    [0.         , 0.96685672,  0.96839132, 0.85574313],\n",
    "    [0.97175242, 0.         , 0.988693,   0.90284238],\n",
    "    [0.95158719, 1.         , 0.      ,   0.87694331],\n",
    "    [0.84444039, 0.90408969, 0.87373856, 0.        ]\n",
    "])\n",
    "\n",
    "start_node = 0\n",
    "end_node = 3\n",
    "node_range = [1, 2, 3, 4]\n",
    "\n",
    "# transitions = find_node_transitions(score_adj_matrix, start_node)\n",
    "# print(\"Node Transitions with Start Node:\", transitions)\n",
    "\n",
    "# FIX ME, 6 should not appear\n",
    "# transitions = find_node_transitions_with_end_node(score_adj_matrix, start_node, end_node)\n",
    "# print(\"Node Transitions with Start and End Node:\", transitions)\n",
    "\n",
    "transitions = find_node_transitions_with_threshold(score_adj_matrix, start_node, end_node, threshold=0.9)\n",
    "print(\"Node Transitions with Start and End Node + Threshold:\", transitions)\n",
    "\n",
    "\n",
    "# transitions = find_node_transitions_with_depth(adj_matrix, start_node, depth_count=2)\n",
    "# print(\"Node Transitions with Depth Count:\", transitions)\n",
    "\n",
    "# # FIX ME, [3, 6] should not happen\n",
    "# transitions = find_node_transitions_within_range(score_adj_matrix, start_node, node_range=node_range)\n",
    "# print(\"Node Transitions within Node Range:\", transitions)"
   ]
  },
  {
   "cell_type": "markdown",
   "metadata": {},
   "source": [
    "## Helper Functions For Global "
   ]
  },
  {
   "cell_type": "code",
   "execution_count": 63,
   "metadata": {},
   "outputs": [],
   "source": [
    "# Get Step Sequences from Node Transitions\n",
    "def get_step_sequence_by_node_sequence(node_sequences, node2step):\n",
    "    muliple_step_sequences = []\n",
    "    for trans_seq in node_sequences:\n",
    "        mapped_step_sequence = [node2step[n] for n in trans_seq]\n",
    "        muliple_step_sequences.append(mapped_step_sequence)\n",
    "    return muliple_step_sequences\n",
    "\n",
    "def get_step_headlines_sequence_by_step_ids(step_sequences, step_id_to_headline):\n",
    "    muliple_step_headlines = []\n",
    "    for trans_seq in step_sequences:\n",
    "        headlines = [step_id_to_headline[s] for s in trans_seq]\n",
    "        muliple_step_sequences.append(headlines)\n",
    "    return muliple_step_headlines\n",
    "\n",
    "# Define the start node\n",
    "def get_start_end_node_of_task_on_global(task_name):\n",
    "    # This is for global graph\n",
    "    a_id = wikihow_taskname_to_article_id[task_name]\n",
    "    step_seq = article_to_step_id[a_id]\n",
    "    start_step_id = step_seq[0]\n",
    "    end_step_id = step_seq[-1]\n",
    "    start_node_id = step2node[start_step_id]\n",
    "    end_node_id = step2node[end_step_id]\n",
    "    return start_node_id, end_node_id"
   ]
  },
  {
   "cell_type": "markdown",
   "metadata": {},
   "source": [
    "## Helper Functions For Local"
   ]
  },
  {
   "cell_type": "code",
   "execution_count": 4,
   "metadata": {
    "code_folding": []
   },
   "outputs": [],
   "source": [
    "def get_step_id_to_step_headlines_on_local(wikihow_step, taskids):\n",
    "    # This is for local graph => no step clustering => because it does not make sense\n",
    "    step_id = 0\n",
    "    step_id_to_step_headlines = dict()\n",
    "    for taskid in taskids:\n",
    "        step_headlines = wikihow_step[taskid]\n",
    "        for step in step_headlines:\n",
    "            step_id_to_step_headlines[step_id] = step\n",
    "            step_id += 1\n",
    "    return step_id_to_step_headlines\n",
    "\n",
    "def get_start_end_step_of_task_on_local(wikihow_step, taskids):\n",
    "    # This is for local graph => no step clustering => because it does not make sense\n",
    "    start_id = 0\n",
    "    taskids2start_step_end_step = dict()\n",
    "    for taskid in taskids:\n",
    "        step_headlines = wikihow_step[taskid]\n",
    "        end_id = start_id + len(step_headlines)\n",
    "        taskids2start_step_end_step[taskid] = (start_id, end_id-1)\n",
    "        start_id = end_id \n",
    " \n",
    "    return taskids2start_step_end_step"
   ]
  },
  {
   "cell_type": "markdown",
   "metadata": {},
   "source": [
    "## Tweaking Hyperparamers\n",
    "-[ ]graph_find_matched_steps_criteria: topK\n",
    "\n",
    "-[ ]graph_find_matched_steps_for_segments_thresh: 10\n",
    "\n",
    "-[ ]graph_find_matched_steps_for_segments_topK: 1\n",
    "\n",
    "-[ ]edge_min_aggconf: 10000"
   ]
  },
  {
   "cell_type": "code",
   "execution_count": 8,
   "metadata": {},
   "outputs": [],
   "source": [
    "# infer \n",
    "import glob\n",
    "vids = ['Luv3PTWdGyA', 'a9i7z2SHMR4', '87OGxcyQz6c', 'l_CzB-WJ0iQ', 'eAtmjjf8JsE']\n",
    "max_transition_values = []\n",
    "min_transition_values = []\n",
    "\n",
    "for vid in vids:\n",
    "    sim_score_path = os.path.join(cae_dir, f'subtitles/sim_scores/local/')\n",
    "    sim_score_paths_of_segments_this_video = sorted(glob.glob(os.path.join(sim_score_path, vid, 'segment_*.npy')))\n",
    "    edges_meta = list()\n",
    "    # loop over segments\n",
    "    for video_segment_idx in range(1, len(sim_score_paths_of_segments_this_video)):\n",
    "        segment_pre_sim_scores = np.load(sim_score_paths_of_segments_this_video[video_segment_idx - 1])\n",
    "        segment_suc_sim_scores = np.load(sim_score_paths_of_segments_this_video[video_segment_idx])\n",
    "        max_pre = segment_pre_sim_scores.max()\n",
    "        min_pre = segment_pre_sim_scores.min()\n",
    "        \n",
    "        max_suc = segment_suc_sim_scores.max()\n",
    "        min_suc = segment_suc_sim_scores.min()\n",
    "            \n",
    "        max_transition_values.append(max_pre * max_suc)\n",
    "        min_transition_values.append(min_pre * min_suc)"
   ]
  },
  {
   "cell_type": "code",
   "execution_count": 13,
   "metadata": {},
   "outputs": [
    {
     "data": {
      "text/plain": [
       "7668452.177084541"
      ]
     },
     "execution_count": 13,
     "metadata": {},
     "output_type": "execute_result"
    }
   ],
   "source": [
    "min(max_transition_values)"
   ]
  },
  {
   "cell_type": "markdown",
   "metadata": {},
   "source": [
    "# Local Graph"
   ]
  },
  {
   "cell_type": "markdown",
   "metadata": {},
   "source": [
    "## CAE_subtitles vs. HowTo100M_subtitles"
   ]
  },
  {
   "cell_type": "markdown",
   "metadata": {},
   "source": [
    "### Decode Node Transitions"
   ]
  },
  {
   "cell_type": "code",
   "execution_count": 5,
   "metadata": {},
   "outputs": [],
   "source": [
    "with open(os.path.join(cae_dir, f'task_titles/topic2task.pickle'), 'rb') as f:\n",
    "    topic2task = pickle.load(f)"
   ]
  },
  {
   "cell_type": "code",
   "execution_count": 33,
   "metadata": {},
   "outputs": [
    {
     "name": "stdout",
     "output_type": "stream",
     "text": [
      "Cluster: 11\n",
      "['How to Make a Blood Sugar Stabilising Breakfast']\n",
      "Task title: How to Make a Blood Sugar Stabilising Breakfast\n",
      "start node: 0\n",
      "end node: 3\n",
      "Oracle transition: [0, 1, 2, 3]\n",
      "['Soak all the ingredients together (except the milk) in a bowl of water.', 'Add the ingredients to the cup of milk on a stove.', 'Cook until the oats are mushy and the nuts are soft.', 'Pour into a bowl.']\n",
      "Total node transitions found: 5\n",
      "Found step transition 0: [0, 1, 2, 3]\n",
      "['Soak all the ingredients together (except the milk) in a bowl of water.', 'Add the ingredients to the cup of milk on a stove.', 'Cook until the oats are mushy and the nuts are soft.', 'Pour into a bowl.']\n",
      "Found step transition 1: [0, 1, 3]\n",
      "['Soak all the ingredients together (except the milk) in a bowl of water.', 'Add the ingredients to the cup of milk on a stove.', 'Pour into a bowl.']\n",
      "Found step transition 2: [0, 2, 1, 3]\n",
      "['Soak all the ingredients together (except the milk) in a bowl of water.', 'Cook until the oats are mushy and the nuts are soft.', 'Add the ingredients to the cup of milk on a stove.', 'Pour into a bowl.']\n",
      "Found step transition 3: [0, 2, 3]\n",
      "['Soak all the ingredients together (except the milk) in a bowl of water.', 'Cook until the oats are mushy and the nuts are soft.', 'Pour into a bowl.']\n",
      "Found step transition 4: [0, 3]\n",
      "['Soak all the ingredients together (except the milk) in a bowl of water.', 'Pour into a bowl.']\n"
     ]
    }
   ],
   "source": [
    "# Issues: step_lookup_table \n",
    "# Example local graph\n",
    "# example topics = [11, 101, 133, 147, 258]\n",
    "topic = 101\n",
    "topk = 3\n",
    "agg = 1000\n",
    "cae_local_pkg = np.load(os.path.join(cae_dir, f'subtitles/graph_output/local/topic_{topic}/PKG-criteria_topK-threshold_10-topK_{topk}-agg_{agg}.npy'))\n",
    "# print(cae_local_pkg.shape)\n",
    "print('Cluster:', topic)\n",
    "clustered_taskids = topic2task.get(topic)\n",
    "wikihow_taskids = [task_id for (source, task_id) in clustered_taskids if source == 'wikihow']\n",
    "tasknames = [article_id_to_wikihow_taskname.get(taskid) for taskid in wikihow_taskids]\n",
    "print(tasknames)\n",
    "\n",
    "\n",
    "# get a dictionary of local step id (starting from 0) to step headlines\n",
    "# rewrite below function to adapt to topic2step.get(topic)\n",
    "# topic0:{step_lookup_table.append((task_id, c_idx))}\n",
    "local_step_id_2_step_headlines = get_step_id_to_step_headlines_on_local(wikihow_steps, wikihow_taskids)\n",
    "# print('Oracle step transition:', local_step_id_2_step_headlines)\n",
    "local_taskids2start_step_end_step = get_start_end_step_of_task_on_local(wikihow_steps, wikihow_taskids)\n",
    "\n",
    "\n",
    "for taskid, taskname in zip(wikihow_taskids, tasknames):\n",
    "    print('Task title:', taskname)\n",
    "    \n",
    "    start_node, end_node = local_taskids2start_step_end_step.get(taskid)\n",
    "    print('start node:', start_node)\n",
    "    print('end node:', end_node)\n",
    "    oracle_node_trans = list(range(start_node, end_node+1))\n",
    "    print(f'Oracle transition:', oracle_node_trans)\n",
    "    oracle_step_trans = [local_step_id_2_step_headlines.get(step_id) for step_id in oracle_node_trans]\n",
    "    print(oracle_step_trans)\n",
    "\n",
    "    # TODO: threshold -->\n",
    "    cae_node_trans = find_node_transitions_with_threshold(cae_local_pkg, start_node, end_node, threshold=0.9)\n",
    "    print('Total node transitions found:', len(cae_node_trans))\n",
    "    \n",
    "    for idx, cae_node_tran in enumerate(cae_node_trans):\n",
    "        cae_step_trans = [local_step_id_2_step_headlines.get(step_id) for step_id in cae_node_tran]\n",
    "        print(f'Found step transition {idx}:', cae_node_tran)\n",
    "        print(cae_step_trans)\n"
   ]
  },
  {
   "cell_type": "code",
   "execution_count": 34,
   "metadata": {},
   "outputs": [
    {
     "name": "stdout",
     "output_type": "stream",
     "text": [
      "[[0.         0.99785013 0.99709511 0.925869  ]\n",
      " [0.99808304 0.         0.99920809 0.92926998]\n",
      " [0.99702714 1.         0.         0.91296639]\n",
      " [0.92377298 0.9249839  0.9103892  0.        ]]\n"
     ]
    }
   ],
   "source": [
    "print(cae_local_pkg)"
   ]
  },
  {
   "cell_type": "markdown",
   "metadata": {},
   "source": [
    "## (No need) Define task similarities\n",
    "-[X] Sanity check on whether the exact task title of HowTo100M is clustered into the same topic with WikiHow"
   ]
  },
  {
   "cell_type": "code",
   "execution_count": null,
   "metadata": {},
   "outputs": [],
   "source": [
    "# Check on the topics that have more overlap between wikihow and howto100m\n",
    "get_task_titles_feats(howto_dir)"
   ]
  },
  {
   "cell_type": "markdown",
   "metadata": {},
   "source": [
    "### Helper Function:"
   ]
  },
  {
   "cell_type": "code",
   "execution_count": 13,
   "metadata": {},
   "outputs": [],
   "source": [
    "from sklearn.cluster import AgglomerativeClustering\n",
    "import time\n",
    "\n",
    "\n",
    "def get_task_titles_feats(input_dir):\n",
    "    with open(os.path.join(input_dir,\n",
    "                           'task_titles/s3d_text_feats/task_title_embeddings.pickle'), 'rb') as f:\n",
    "            task_title_feats = pickle.load(f)\n",
    "    \n",
    "    return task_title_feats\n",
    "\n",
    "\n",
    "def merge_task_title_feats(wikihow_tasktitle_feat_dict, howto100m_tasktitle_feat_dict):\n",
    "    merged_task_id_2_original_task_id = defaultdict()\n",
    "    merged_feats = []\n",
    "\n",
    "    for idx, (article_id, tasktitle_feat) in enumerate(wikihow_tasktitle_feat_dict.items()):\n",
    "        merged_task_id_2_original_task_id[idx] = ('wikihow', article_id)\n",
    "        merged_feats.append(tasktitle_feat)\n",
    "\n",
    "    for idx, (article_id, tasktitle_feat) in enumerate(howto100m_tasktitle_feat_dict.items()):\n",
    "        idx += len(wikihow_tasktitle_feat_dict)\n",
    "        merged_task_id_2_original_task_id[idx] = ('howto100m', article_id)\n",
    "        merged_feats.append(tasktitle_feat)\n",
    "\n",
    "    merged_tasktitle_feats = np.concatenate(merged_feats, axis=0)\n",
    "\n",
    "    return merged_task_id_2_original_task_id, merged_tasktitle_feats\n",
    "\n",
    "\n",
    "def get_topics_by_clustering_tasktitles(wikihow_tasktitle_feats:dict, \n",
    "                                        howto100m_tasktitle_feats:dict, \n",
    "                                        n_clusters,\n",
    "                                        task_clustering_linkage,\n",
    "                                        task_clustering_distance_thresh,\n",
    "                                        task_clustering_affinity\n",
    "                                       ):\n",
    "    start_time = time.time()\n",
    "    assert wikihow_tasktitle_feats is not None\n",
    "    assert howto100m_tasktitle_feats is not None\n",
    "\n",
    "    merged_task_id_2_original_task_id, merged_task_feats = \\\n",
    "        merge_task_title_feats(wikihow_tasktitle_feats, howto100m_tasktitle_feats)\n",
    "\n",
    "    clustering = AgglomerativeClustering(n_clusters=n_clusters, \n",
    "                                         linkage=task_clustering_linkage,\n",
    "                                         distance_threshold=task_clustering_distance_thresh, \n",
    "                                         affinity=task_clustering_affinity).fit(merged_task_feats)\n",
    "    \n",
    "    # distance_threshold:\n",
    "    #   The linkage distance threshold above which, clusters will not be merged.\n",
    "    num_nodes = clustering.n_clusters_\n",
    "\n",
    "    topic2task, wikihow_task2topic, howto100m_task2topic = defaultdict(), defaultdict(), defaultdict()\n",
    "\n",
    "    for cluster_id in range(num_nodes):\n",
    "        cluster_members = np.where(clustering.labels_ == cluster_id)[0]\n",
    "        topic2task[cluster_id] = [merged_task_id_2_original_task_id[task_id] for task_id in cluster_members]\n",
    "        for task_id in cluster_members:\n",
    "            original_tasktitle_source,  original_task_id = merged_task_id_2_original_task_id[task_id]\n",
    "            if original_tasktitle_source == 'wikihow':\n",
    "                wikihow_task2topic[original_task_id] = cluster_id\n",
    "            else:\n",
    "                howto100m_task2topic[original_task_id] = cluster_id\n",
    "                \n",
    "    print(('finding task similarity between {} wikihow tasks and {} howto100m tasks took {} seconds'.\n",
    "           format(len(wikihow_tasktitle_feats), len(howto100m_tasktitle_feats), time.time() - start_time)))\n",
    "    \n",
    "    return topic2task, wikihow_task2topic, howto100m_task2topic"
   ]
  },
  {
   "cell_type": "code",
   "execution_count": 24,
   "metadata": {},
   "outputs": [
    {
     "name": "stdout",
     "output_type": "stream",
     "text": [
      "713\n"
     ]
    }
   ],
   "source": [
    "wikihow_part_task_feats = get_task_titles_feats(wikihow_part_dir)\n",
    "howto_task_feats = get_task_titles_feats(howto_dir)\n",
    "selected_howto_task_feats = {task_id: howto_task_feats.get(task_id) for task_id in howto_joint_partial_taskid}\n",
    "\n",
    "print('exact title match', len(selected_howto_task_feats))"
   ]
  },
  {
   "cell_type": "code",
   "execution_count": 34,
   "metadata": {},
   "outputs": [
    {
     "name": "stderr",
     "output_type": "stream",
     "text": [
      "/mount/arbeitsdaten/jp-silberer/ernie_vil/miniconda3/envs/paprika/lib/python3.8/site-packages/sklearn/cluster/_agglomerative.py:983: FutureWarning: Attribute `affinity` was deprecated in version 1.2 and will be removed in 1.4. Use `metric` instead\n",
      "  warnings.warn(\n"
     ]
    },
    {
     "name": "stdout",
     "output_type": "stream",
     "text": [
      "finding task similarity between 1053 wikihow tasks and 713 howto100m tasks took 0.431593656539917 seconds\n"
     ]
    }
   ],
   "source": [
    "topic2task, wikihow_task2topic, howto_task2topic = get_topics_by_clustering_tasktitles(\n",
    "                                                   wikihow_part_task_feats,\n",
    "                                                   selected_howto_task_feats,\n",
    "                                                   n_clusters=None,\n",
    "                                                   task_clustering_linkage='average',\n",
    "                                                   task_clustering_distance_thresh=0.5,\n",
    "                                                   task_clustering_affinity='cosine')"
   ]
  },
  {
   "cell_type": "code",
   "execution_count": 51,
   "metadata": {},
   "outputs": [
    {
     "data": {
      "text/plain": [
       "'Change a Sway Bar Link'"
      ]
     },
     "execution_count": 51,
     "metadata": {},
     "output_type": "execute_result"
    }
   ],
   "source": [
    "howto_taskid2title[29176]"
   ]
  },
  {
   "cell_type": "code",
   "execution_count": 39,
   "metadata": {},
   "outputs": [
    {
     "name": "stdout",
     "output_type": "stream",
     "text": [
      "WikiHow Tasks: (Partial) 1053\n",
      "HowTo Tasks: (Partial) 713\n",
      "Num of topics: 589\n",
      "\n",
      "\n",
      "443\n"
     ]
    }
   ],
   "source": [
    "print('WikiHow Tasks: (Partial)', len(wikihow_task2topic))\n",
    "print('HowTo Tasks: (Partial)', len(howto_task2topic))\n",
    "print('Num of topics:', len(topic2task))\n",
    "print('\\n')\n",
    "c = 0\n",
    "exact_map = 0\n",
    "for key, tasks in topic2task.items():\n",
    "    c += 1\n",
    "    tasknames = []\n",
    "    pure_tasknames = []\n",
    "    for member in tasks:\n",
    "        if member[0] == 'wikihow':\n",
    "            # wikihow partial\n",
    "            tasknames.append((member[0], article_id_to_wikihow_taskname.get(member[1])))\n",
    "            pure_tasknames.append(article_id_to_wikihow_taskname.get(member[1]))\n",
    "\n",
    "        elif member[0] == 'howto100m':    \n",
    "            # howto100m\n",
    "            tasknames.append((member[0], 'How to ' + howto_taskid2title.get(member[1])))\n",
    "            pure_tasknames.append('How to ' + howto_taskid2title.get(member[1]))\n",
    "\n",
    "    if len(set(pure_tasknames)) < len(pure_tasknames):\n",
    "        exact_map += 1\n",
    "        \n",
    "# print(exact_map)\n",
    "#     print(f'Cluster {key}: {tasknames}')\n",
    "#     if c >= 10:\n",
    "#         break\n"
   ]
  },
  {
   "cell_type": "markdown",
   "metadata": {},
   "source": [
    "### For Quick Test: (1) wikihow_part- howto100m/cae sampled tasktitles  "
   ]
  },
  {
   "cell_type": "code",
   "execution_count": 15,
   "metadata": {},
   "outputs": [],
   "source": [
    "# get the sampled tasktitles embeddings for Howto100M & CAE\n",
    "howto_task_feats = get_task_titles_feats(howto_dir)\n",
    "selected_howto_task_feats = {task_id: howto_task_feats.get(task_id) for task_id in sampled_taskids}\n",
    "\n",
    "saved_path = os.path.join(howto_dir, 'task_titles/s3d_text_feats/sampled_task_title_embeddings.pickle')\n",
    "with open(saved_path, 'wb') as f:\n",
    "    assert len(selected_howto_task_feats) == 65\n",
    "    pickle.dump(selected_howto_task_feats, f)\n",
    "    \n",
    "\n",
    "cae_task_feats = get_task_titles_feats(cae_dir)\n",
    "selected_cae_task_feats = {task_id: cae_task_feats.get(task_id) for task_id in sampled_taskids}\n",
    "\n",
    "saved_path = os.path.join(howto_dir, 'task_titles/s3d_text_feats/sampled_task_title_embeddings.pickle')\n",
    "with open(saved_path, 'wb') as f:\n",
    "    assert len(selected_cae_task_feats) == 65\n",
    "    pickle.dump(selected_cae_task_feats, f)"
   ]
  },
  {
   "cell_type": "markdown",
   "metadata": {},
   "source": [
    "# Global Graph"
   ]
  },
  {
   "cell_type": "markdown",
   "metadata": {},
   "source": [
    "## CAE_subtitles vs. HowTo100M_subtitles"
   ]
  },
  {
   "cell_type": "code",
   "execution_count": 64,
   "metadata": {},
   "outputs": [],
   "source": [
    "# pkg (based o node id)\n",
    "howto_pkg = np.load(os.path.join(howto_dir, 'subtitles/graph_output/PKG-criteria_topK-threshold_10-topK_3-agg_1000.npy'))\n",
    "cae_pkg = np.load(os.path.join(cae_dir, 'subtitles/graph_output/PKG-criteria_topK-threshold_10-topK_3-agg_1000.npy'))\n",
    "\n",
    "cae_pkg_matrix = np.asmatrix(cae_pkg)\n",
    "howto_pkg_matrix = np.asmatrix(howto_pkg)"
   ]
  },
  {
   "cell_type": "code",
   "execution_count": 32,
   "metadata": {},
   "outputs": [],
   "source": [
    "assert len(cae_pkg_matrix)==len(howto_pkg_matrix)"
   ]
  },
  {
   "cell_type": "code",
   "execution_count": 46,
   "metadata": {},
   "outputs": [
    {
     "data": {
      "text/plain": [
       "matrix([[0., 0., 0., ..., 0., 0., 0.],\n",
       "        [0., 0., 0., ..., 0., 0., 0.],\n",
       "        [0., 0., 0., ..., 0., 0., 0.],\n",
       "        ...,\n",
       "        [0., 0., 0., ..., 0., 0., 0.],\n",
       "        [0., 0., 0., ..., 0., 0., 0.],\n",
       "        [0., 0., 0., ..., 0., 0., 0.]])"
      ]
     },
     "execution_count": 46,
     "metadata": {},
     "output_type": "execute_result"
    }
   ],
   "source": [
    "cae_pkg_matrix"
   ]
  },
  {
   "cell_type": "code",
   "execution_count": 47,
   "metadata": {},
   "outputs": [
    {
     "data": {
      "text/plain": [
       "9537"
      ]
     },
     "execution_count": 47,
     "metadata": {},
     "output_type": "execute_result"
    }
   ],
   "source": [
    "len(np.argwhere(cae_pkg_matrix>0))"
   ]
  },
  {
   "cell_type": "code",
   "execution_count": 48,
   "metadata": {},
   "outputs": [
    {
     "data": {
      "text/plain": [
       "536807"
      ]
     },
     "execution_count": 48,
     "metadata": {},
     "output_type": "execute_result"
    }
   ],
   "source": [
    "len(np.argwhere(howto_pkg_matrix>0))"
   ]
  },
  {
   "cell_type": "markdown",
   "metadata": {},
   "source": [
    "### Decode Node Transitions from PKG "
   ]
  },
  {
   "cell_type": "code",
   "execution_count": 92,
   "metadata": {},
   "outputs": [],
   "source": [
    "import sys\n",
    "sys. setrecursionlimit(10000) "
   ]
  },
  {
   "cell_type": "code",
   "execution_count": 90,
   "metadata": {},
   "outputs": [
    {
     "name": "stdout",
     "output_type": "stream",
     "text": [
      "Task title: How to Install a Speedometer\n",
      "Domain: Cars & Other Vehicles\n",
      "Total node transistions found 285\n",
      "{4684: [\"Read your vehicle's owner's manual.\"], 9801: ['Find an appropriate speedometer.'], 154: ['Gather the appropriate tools and materials.', 'Gather the necessary tools.', 'Gather the necessary tools.'], 10: ['Disconnect the battery.', 'Disconnect the battery cables.', 'Disconnect the battery.', 'Disconnect the battery.', 'Disconnect the battery.', 'Disconnect the battery.', 'Disconnect the battery.', 'Disconnect the positive battery cable.', 'Disconnect your vehicle’s battery.', 'Disconnect the battery.', 'Disconnect the battery.', 'Disconnect the battery.', 'Disconnect the battery leads.', \"Disconnect the negative power cable from the car's battery.\", 'Disconnect the battery ground terminal.', 'Disconnect the battery.', 'Disconnect the negative battery cable.', 'Disconnect the negative terminal of your battery.', 'Disconnect the negative battery cable;', 'Disconnect the battery.', 'Disconnect the battery negative terminal.', 'Disconnect the battery.'], 72: ['Jack up the vehicle if need be.', 'Jack the car up if necessary.', 'Jack up the vehicle if need be.', 'Jack the car up.', 'Jack up the vehicle.', 'Jack up the vehicle.', 'Jack up the car if necessary.', 'Jack up the car.', 'Jack the car up.', 'Jack the vehicle up.'], 66: ['Determine the proper protective equipment to wear.', 'Put on the appropriate protective equipment.', 'Put on appropriate safety equipment.', 'Put on protective gear.'], 1566: ['Gently smoke away the bees.'], 592: ['Open the hive.'], 1565: ['Remove the bees.'], 2111: ['Uncap the honeycomb.'], 1081: ['Take the honeycomb to an enclosed room.'], 448: ['Place the frame into an extractor.'], 1001: ['Spin the frames.'], 2309: ['Strain the honey through cheesecloth.'], 1080: ['Place the honeycomb into a large bucket.'], 2112: ['Chop the honeycomb into mush.'], 477: ['Strain the honey.'], 1952: ['Sterilize your containers.'], 471: ['Bottle the honey.'], 491: ['Store and enjoy.']}\n",
      "{4684: [\"Read your vehicle's owner's manual.\"], 9801: ['Find an appropriate speedometer.'], 154: ['Gather the appropriate tools and materials.', 'Gather the necessary tools.', 'Gather the necessary tools.'], 10: ['Disconnect the battery.', 'Disconnect the battery cables.', 'Disconnect the battery.', 'Disconnect the battery.', 'Disconnect the battery.', 'Disconnect the battery.', 'Disconnect the battery.', 'Disconnect the positive battery cable.', 'Disconnect your vehicle’s battery.', 'Disconnect the battery.', 'Disconnect the battery.', 'Disconnect the battery.', 'Disconnect the battery leads.', \"Disconnect the negative power cable from the car's battery.\", 'Disconnect the battery ground terminal.', 'Disconnect the battery.', 'Disconnect the negative battery cable.', 'Disconnect the negative terminal of your battery.', 'Disconnect the negative battery cable;', 'Disconnect the battery.', 'Disconnect the battery negative terminal.', 'Disconnect the battery.'], 72: ['Jack up the vehicle if need be.', 'Jack the car up if necessary.', 'Jack up the vehicle if need be.', 'Jack the car up.', 'Jack up the vehicle.', 'Jack up the vehicle.', 'Jack up the car if necessary.', 'Jack up the car.', 'Jack the car up.', 'Jack the vehicle up.'], 66: ['Determine the proper protective equipment to wear.', 'Put on the appropriate protective equipment.', 'Put on appropriate safety equipment.', 'Put on protective gear.'], 3426: ['Insert a clear hose into a soda bottle.'], 3003: ['Purchase the correct brake fluid.'], 3591: ['Check the fluid level in the master cylinder.'], 114: ['Locate the bleed screw on the slave cylinder.', 'Open the bleed screw on the slave cylinder.'], 9225: ['Have a friend press the clutch pedal in and hold it.'], 4927: ['Close the bleed screw.'], 6485: ['Have your friend release the clutch pedal.'], 1800: ['Add more brake fluid between each round of bleeding.'], 2793: ['Look for air bubbles in the hose as it drains.'], 4790: ['Repeat the process as needed.']}\n",
      "{4684: [\"Read your vehicle's owner's manual.\"], 9801: ['Find an appropriate speedometer.'], 154: ['Gather the appropriate tools and materials.', 'Gather the necessary tools.', 'Gather the necessary tools.'], 10: ['Disconnect the battery.', 'Disconnect the battery cables.', 'Disconnect the battery.', 'Disconnect the battery.', 'Disconnect the battery.', 'Disconnect the battery.', 'Disconnect the battery.', 'Disconnect the positive battery cable.', 'Disconnect your vehicle’s battery.', 'Disconnect the battery.', 'Disconnect the battery.', 'Disconnect the battery.', 'Disconnect the battery leads.', \"Disconnect the negative power cable from the car's battery.\", 'Disconnect the battery ground terminal.', 'Disconnect the battery.', 'Disconnect the negative battery cable.', 'Disconnect the negative terminal of your battery.', 'Disconnect the negative battery cable;', 'Disconnect the battery.', 'Disconnect the battery negative terminal.', 'Disconnect the battery.'], 72: ['Jack up the vehicle if need be.', 'Jack the car up if necessary.', 'Jack up the vehicle if need be.', 'Jack the car up.', 'Jack up the vehicle.', 'Jack up the vehicle.', 'Jack up the car if necessary.', 'Jack up the car.', 'Jack the car up.', 'Jack the vehicle up.'], 66: ['Determine the proper protective equipment to wear.', 'Put on the appropriate protective equipment.', 'Put on appropriate safety equipment.', 'Put on protective gear.'], 7476: ['Use a cut off tool if available.'], 2970: ['Use a hack saw to cut through the metal just past the clamp.'], 3575: ['Be careful not to cut through anything else.'], 4777: ['Pull the hangers on the muffler off of the rubber muffler mounts.'], 2726: ['Test fit the new muffler.'], 9076: ['Insert the new muffler hangers in the rubber muffler mounts.'], 7302: ['Coat the end of the new muffler’s pipe in exhaust sealant.'], 1830: ['Slide the exhaust together.'], 2840: ['Secure the piping with muffler clamps.'], 4493: ['Start the engine to check for leaks.']}\n",
      "Task title: How to Remove Trim\n",
      "Domain: Home and Garden\n",
      "Total node transistions found 1\n",
      "{8146: ['Remove all furniture in front of the trim.'], 4733: ['Cut through the caulk and paint at the top or side of the trim with a utility knife.'], 4391: ['Ready your tools.'], 3515: ['Start with the edge section that seems the easiest to access.'], 6892: ['Insert a metal putty knife between one and three inches (2.5 to 7.5cm) into the top of the baseboard or side of the wall trim.'], 3692: ['Use a small hammer to tap the top of the putty knife and drive it further underneath the trim.'], 3670: ['Insert a second putty knife parallel to the wall.'], 4234: ['Find a very small pry bar for this project.'], 4128: ['Pull forward with gentle but firm force.'], 3627: ['Work your way down the entire length of the trim, wedging the putty knife and inserting the pry bar to loosen fixed sections.'], 2972: ['Lay the trim piece face down on your floor or worktable.'], 1717: ['Use pliers to remove the finish nails from the back of the trim piece.']}\n",
      "Task title: How to Apply a Tourniquet\n",
      "Domain: Health\n",
      "Total node transistions found 1\n",
      "{10007: ['Discover where the blood is coming from.'], 5857: ['Apply pressure to the wound.'], 6124: ['Calm the injured person down.'], 7114: ['Select the appropriate material.'], 7815: ['Apply the tourniquet between the heart and injury.'], 5244: ['Use a stick or rod for tightening.'], 7159: [\"Don't leave the tourniquet on too long.\"], 7405: ['Keep the wound as clean as you can.'], 5376: ['Provide warmth and hydration.']}\n"
     ]
    }
   ],
   "source": [
    "for t in in_wikihow:\n",
    "    print('Task title:', t)\n",
    "    \n",
    "    print('Domain:', tasktitles2domain.get(t))\n",
    "\n",
    "    start_node, end_node = get_start_end_node_of_task(t)\n",
    "    cae_node_trans = find_node_transitions(cae_pkg, start_node=start_node)\n",
    "    print('Total node transistions found', len(cae_node_trans))\n",
    "    cae_step_trans = get_step_sequence_by_node_sequence(cae_node_trans, node2step, step_id_to_headline)\n",
    "\n",
    "    # TODO: rewrite, make cae_step_trans on one\n",
    "    choie = 2 if len(cae_node_trans) > 2 else len(cae_node_trans) \n",
    "    num = 0 \n",
    "    if len(cae_node_trans) > 2:\n",
    "        for node_tran, step_tran in zip(cae_node_trans, cae_step_trans):\n",
    "            num += 1\n",
    "            output = {node: step_tran[idx] for idx, node in enumerate(node_tran)}\n",
    "            print(output)\n",
    "            if num > 2:\n",
    "                break\n",
    "    else:\n",
    "        for node_tran, step_tran in zip(cae_node_trans, cae_step_trans):\n",
    "            output = {node: step_tran[idx] for idx, node in enumerate(node_tran)}\n",
    "            print(output)\n",
    "\n",
    "#     howto100m_trans = find_topk_node_transitions(howto_pkg, start_node=start_node, depth_count=10)\n",
    "#     print(len(howto100m_trans))\n"
   ]
  },
  {
   "cell_type": "code",
   "execution_count": 89,
   "metadata": {},
   "outputs": [
    {
     "data": {
      "text/plain": [
       "array([  530,   906,  1003,  1148,  1788,  1837,  2469,  4438,  5060,\n",
       "        5529,  6703,  7281,  7870,  8065,  8136,  8226,  8428,  9047,\n",
       "        9698, 10101, 10126, 10209])"
      ]
     },
     "execution_count": 89,
     "metadata": {},
     "output_type": "execute_result"
    }
   ],
   "source": [
    "node2step[10][0]"
   ]
  },
  {
   "cell_type": "markdown",
   "metadata": {},
   "source": [
    "# (Outdated) Analysis on PKG constructed base on cross-modal alignment (6 videos)"
   ]
  },
  {
   "cell_type": "markdown",
   "metadata": {},
   "source": [
    "### Case A: irrelevant task id "
   ]
  },
  {
   "cell_type": "code",
   "execution_count": 151,
   "metadata": {},
   "outputs": [
    {
     "name": "stdout",
     "output_type": "stream",
     "text": [
      "[[3059, 7793, 7260, 1631, 7054, 3334]]\n"
     ]
    },
    {
     "data": {
      "text/plain": [
       "[[['Prepare the site.'],\n",
       "  ['Lay a piece of string on the soil as a guide to make sure you dig the row in a straight line.'],\n",
       "  ['Use a cane, or other tool, to dig a narrow hole that you will place the seeds in.'],\n",
       "  ['Using a hoe, gently cover the seeds with soil.'],\n",
       "  ['If the soil is dry, water the seeds in.'],\n",
       "  ['To protect your plants from late frosts in Spring, build a frame to cover the drills.']]]"
      ]
     },
     "execution_count": 151,
     "metadata": {},
     "output_type": "execute_result"
    }
   ],
   "source": [
    "# get action-step sequences based on task id\n",
    "# Case A: non-relevant task id\n",
    "example_task_name = 'How to Plant Parsnips'\n",
    "example_task_id = wikihow_task2taskid[example_task_name]\n",
    "example_a_id = wikhow_taskname_to_article_id[example_task_name]\n",
    "\n",
    "# get step sequence (step id transitions)\n",
    "step_seq = article_to_step_id[example_a_id]\n",
    "start_step_id = step_seq[0]\n",
    "start_node_id = step2node[start_step_id]\n",
    "\n",
    "node_trans = find_node_transitions(pkg, start_node=start_node_id)\n",
    "print(node_trans)\n",
    "\n",
    "get_step_sequence_by_node_sequence(node_trans, node2step, step_id_to_headline)"
   ]
  },
  {
   "cell_type": "markdown",
   "metadata": {},
   "source": [
    "### Case B: relevant task id "
   ]
  },
  {
   "cell_type": "code",
   "execution_count": 20,
   "metadata": {},
   "outputs": [],
   "source": [
    "# videoid2taskid\n",
    "howto_meta_dir = '/mount/arbeitsdaten/jp-silberer/ernie_vil/data/HowTo100M'\n",
    "video_meta_csv = pd.read_csv(os.path.join(howto_meta_dir, 'HowTo100M_v1.csv'))\n",
    "task_ids_csv = pd.read_csv(os.path.join(howto_meta_dir, 'task_ids.csv'), sep='\\t', header=None)\n",
    "    \n",
    "def get_videoid2taskname(video_meta_csv, task_ids_csv):\n",
    "    task_id_to_task_name_original_map = dict()\n",
    "    for index, row in task_ids_csv.iterrows():\n",
    "        task_id = row[0]\n",
    "        task_name = row[1]\n",
    "        task_id_to_task_name_original_map[task_id] = task_name\n",
    "    \n",
    "    video_id_to_task_name = dict()\n",
    "    for index, row in video_meta_csv.iterrows():\n",
    "        video_id = row['video_id']\n",
    "        task_id = row['task_id']\n",
    "        video_id_to_task_name[video_id] = task_id_to_task_name_original_map[task_id]\n",
    "    \n",
    "    return video_id_to_task_name\n",
    "\n",
    "video_id_to_task_name = get_videoid2taskname(video_meta_csv, task_ids_csv)"
   ]
  },
  {
   "cell_type": "code",
   "execution_count": 19,
   "metadata": {},
   "outputs": [
    {
     "data": {
      "text/plain": [
       "['Grill Tri Tip',\n",
       " 'Grill Tri Tip',\n",
       " 'Do a Hair Mask for Frizzy Hair',\n",
       " 'Make an Envelope Advent Calendar',\n",
       " 'Make Pine Needle Tea',\n",
       " 'Grill Tri Tip']"
      ]
     },
     "execution_count": 19,
     "metadata": {},
     "output_type": "execute_result"
    }
   ],
   "source": [
    "# sample videos\n",
    "sample_videos = ['8JevEqO_iS0', 'L8kRaQ-IwpM', 'O_sC9gyEER0', 'c0VlxPBSMDs', 'jRkJTww8HR0', 'kHb7POoH_gc']\n",
    "sample_task_names = [video_id_to_task_name.get(vid)for vid in sample_videos]\n",
    "sample_task_names"
   ]
  },
  {
   "cell_type": "code",
   "execution_count": 88,
   "metadata": {},
   "outputs": [
    {
     "data": {
      "text/plain": [
       "['How to Grill Tri Tip']"
      ]
     },
     "execution_count": 88,
     "metadata": {},
     "output_type": "execute_result"
    }
   ],
   "source": [
    "similar_tasks = []\n",
    "for t in tasknames:\n",
    "    if 'Grill' in t:\n",
    "        similar_tasks.append(t)\n",
    "similar_tasks"
   ]
  },
  {
   "cell_type": "code",
   "execution_count": 26,
   "metadata": {},
   "outputs": [
    {
     "name": "stdout",
     "output_type": "stream",
     "text": [
      "node transition [[1956, 1190, 1451, 619, 937, 1896]]\n",
      "step transition [array([9463]), array([9464]), array([9465]), array([9466, 9473]), array([9474]), array([9475])]\n"
     ]
    },
    {
     "data": {
      "text/plain": [
       "[[['Head to your grocery store.'],\n",
       "  ['Prep the roast.'],\n",
       "  ['Use a dry rub.'],\n",
       "  ['Give it a rest.', 'Give it another rest.'],\n",
       "  ['Slice against the grain.'],\n",
       "  ['Serve with your favorite sides.']]]"
      ]
     },
     "execution_count": 26,
     "metadata": {},
     "output_type": "execute_result"
    }
   ],
   "source": [
    "example_task_name = 'How to Grill Tri Tip'\n",
    "example_task_id = wikihow_task2taskid[example_task_name]\n",
    "example_a_id = wikihow_taskname_to_article_id[example_task_name]\n",
    "\n",
    "# get step sequence (step id transitions)\n",
    "step_seq = article_to_step_id[example_a_id]\n",
    "start_step_id = step_seq[0]\n",
    "# start_step_id = 4939\n",
    "start_node_id = step2node[start_step_id]\n",
    "# print(start_node_id)\n",
    "node_trans = find_node_transitions(pkg, start_node=start_node_id)\n",
    "print('node transition', node_trans)\n",
    "\n",
    "# Find article name\n",
    "print('step transition', [node2step[n] for n_seq in node_trans for n in n_seq])\n",
    "\n",
    "\n",
    "get_step_sequence_by_node_sequence(node_trans, node2step, step_id_to_headline)\n"
   ]
  },
  {
   "cell_type": "code",
   "execution_count": 108,
   "metadata": {},
   "outputs": [
    {
     "name": "stdout",
     "output_type": "stream",
     "text": [
      "[556]\n"
     ]
    },
    {
     "data": {
      "text/plain": [
       "'How to Smoke Beef Ribs1'"
      ]
     },
     "execution_count": 108,
     "metadata": {},
     "output_type": "execute_result"
    }
   ],
   "source": [
    "idx = np.nonzero(wikihow_step2task[4939]!=0)[0]\n",
    "print(idx)\n",
    "wikihow_taskid2task[556]"
   ]
  },
  {
   "cell_type": "markdown",
   "metadata": {},
   "source": [
    "### Q. Why there is no other sequence transitions?"
   ]
  },
  {
   "cell_type": "code",
   "execution_count": null,
   "metadata": {},
   "outputs": [],
   "source": [
    "# Find if the node_trans is in G_Howto100M; if yes, the order align with the wikihow's step headlines\n",
    "# If not; that means, the alignment between the video segment and the step headlines are not well (Check how S3D is trained)\n",
    "# Find the similarity score of 8JevEqO_iS0, L8kRaQ-IwpM, kHb7POoH_gc to get some insights\n"
   ]
  },
  {
   "cell_type": "code",
   "execution_count": 8,
   "metadata": {},
   "outputs": [],
   "source": [
    "G_howto100m = np.load(os.path.join(cae_dir, 'subtitles/graph_output/G_howto100m-criteria_topK-threshold_10-topK_3-agg_1000.npy')) # on step-level transition\n",
    "G_wikihow = np.load(os.path.join(cae_dir, 'subtitles/graph_output/G_wikihow-criteria_topK-threshold_10-topK_3.npy')) # on step-level transition"
   ]
  },
  {
   "cell_type": "code",
   "execution_count": 65,
   "metadata": {},
   "outputs": [],
   "source": [
    "from scipy.sparse import csr_matrix\n",
    "G_wikihow_csr, G_howto100m_csr = csr_matrix(G_wikihow), csr_matrix(G_howto100m)"
   ]
  },
  {
   "cell_type": "code",
   "execution_count": 75,
   "metadata": {},
   "outputs": [
    {
     "name": "stdout",
     "output_type": "stream",
     "text": [
      "True\n"
     ]
    }
   ],
   "source": [
    "G_wikihow_step_trans = np.argwhere(G_wikihow>0)\n",
    "index = np.nonzero(G_wikihow)\n",
    "G_wikihow_conf = G_wikihow[index]\n",
    "\n",
    "formed_edges_in_nodes = [(step2node[formed_edge_in_steps[0]], step2node[formed_edge_in_steps[1]]) for formed_edge_in_steps in G_wikihow_step_trans]"
   ]
  },
  {
   "cell_type": "code",
   "execution_count": 78,
   "metadata": {},
   "outputs": [
    {
     "name": "stdout",
     "output_type": "stream",
     "text": [
      "True\n"
     ]
    }
   ],
   "source": [
    "print((937, 1896) in formed_edges_in_nodes)"
   ]
  },
  {
   "cell_type": "code",
   "execution_count": 18,
   "metadata": {},
   "outputs": [
    {
     "name": "stdout",
     "output_type": "stream",
     "text": [
      "step transition: [ 759 7090]\n",
      "step transition in headlines: Meanwhile, get the fermentors. Inspect the clean roof for cracks along the edges of the EPDM barrier where the self leveling sealant is starting to lift up or become degraded in any way.\n",
      "confidence score: 0.8663709492554348\n",
      "step transition: [ 759 7093]\n",
      "step transition in headlines: Meanwhile, get the fermentors. Apply this sealant along the cracked or potential pin holed area that you have just cleaned from any dirt and grime.\n",
      "confidence score: 0.8671828954962901\n",
      "step transition: [ 759 9266]\n",
      "step transition in headlines: Meanwhile, get the fermentors. Crack all the grains (Meaning should lightly grind up in coffee grinder, or roll over with a heavy rolling pin while in sleeve).\n",
      "confidence score: 0.8734952834486645\n",
      "step transition: [1498 3599]\n",
      "step transition in headlines: Clean the hub, outer bearing and inner bearing with parts cleaner or a brush and pan of kerosene or gasoline. Make a nesting box out of a kitchen cabinet.\n",
      "confidence score: 0.9909510990418113\n",
      "step transition: [1498 5626]\n",
      "step transition in headlines: Clean the hub, outer bearing and inner bearing with parts cleaner or a brush and pan of kerosene or gasoline. Remove the contents of the kitchen cabinet.\n",
      "confidence score: 0.9893480247973759\n",
      "step transition: [1498 5630]\n",
      "step transition in headlines: Clean the hub, outer bearing and inner bearing with parts cleaner or a brush and pan of kerosene or gasoline. Place the drawer with slides into the kitchen cabinet to be sure it is the correct size.\n",
      "confidence score: 0.9886988096874755\n",
      "step transition: [1959 7090]\n",
      "step transition in headlines: Get a safelight. Inspect the clean roof for cracks along the edges of the EPDM barrier where the self leveling sealant is starting to lift up or become degraded in any way.\n",
      "confidence score: 0.8663709492554348\n",
      "step transition: [1959 7093]\n",
      "step transition in headlines: Get a safelight. Apply this sealant along the cracked or potential pin holed area that you have just cleaned from any dirt and grime.\n",
      "confidence score: 0.8671828954962901\n",
      "step transition: [1959 9266]\n",
      "step transition in headlines: Get a safelight. Crack all the grains (Meaning should lightly grind up in coffee grinder, or roll over with a heavy rolling pin while in sleeve).\n",
      "confidence score: 0.8734952834486645\n",
      "step transition: [2798 1498]\n",
      "step transition in headlines: Call your insurance company. Clean the hub, outer bearing and inner bearing with parts cleaner or a brush and pan of kerosene or gasoline.\n",
      "confidence score: 0.9179037049086957\n",
      "step transition: [2798 7569]\n",
      "step transition in headlines: Call your insurance company. Fill the gas tank with the correct fuel/oil mixture, which is typically one gallon of gasoline with 4 to 6 ounces of two cycle engine oil.\n",
      "confidence score: 0.9179348065659186\n",
      "step transition: [ 2798 10494]\n",
      "step transition in headlines: Call your insurance company. Add gasoline (petrol) to the ethanol (optional).\n",
      "confidence score: 0.9269526058668845\n",
      "step transition: [3599  759]\n",
      "step transition in headlines: Make a nesting box out of a kitchen cabinet. Meanwhile, get the fermentors.\n",
      "confidence score: 0.9263965570574894\n",
      "step transition: [3599 1959]\n",
      "step transition in headlines: Make a nesting box out of a kitchen cabinet. Get a safelight.\n",
      "confidence score: 0.9263965570574894\n",
      "step transition: [3599 6848]\n",
      "step transition in headlines: Make a nesting box out of a kitchen cabinet. Stabilize the driveshaft in a vise.\n",
      "confidence score: 0.9247210722882818\n",
      "step transition: [5626  759]\n",
      "step transition in headlines: Remove the contents of the kitchen cabinet. Meanwhile, get the fermentors.\n",
      "confidence score: 0.9247934828130542\n",
      "step transition: [5626 1959]\n",
      "step transition in headlines: Remove the contents of the kitchen cabinet. Get a safelight.\n",
      "confidence score: 0.9247934828130542\n",
      "step transition: [5626 6848]\n",
      "step transition in headlines: Remove the contents of the kitchen cabinet. Stabilize the driveshaft in a vise.\n",
      "confidence score: 0.9231179980438465\n",
      "step transition: [5630  759]\n",
      "step transition in headlines: Place the drawer with slides into the kitchen cabinet to be sure it is the correct size. Meanwhile, get the fermentors.\n",
      "confidence score: 0.9241442677031536\n",
      "step transition: [5630 1959]\n",
      "step transition in headlines: Place the drawer with slides into the kitchen cabinet to be sure it is the correct size. Get a safelight.\n",
      "confidence score: 0.9241442677031536\n",
      "step transition: [5630 6848]\n",
      "step transition in headlines: Place the drawer with slides into the kitchen cabinet to be sure it is the correct size. Stabilize the driveshaft in a vise.\n",
      "confidence score: 0.9224687829339461\n",
      "step transition: [6848 7090]\n",
      "step transition in headlines: Stabilize the driveshaft in a vise. Inspect the clean roof for cracks along the edges of the EPDM barrier where the self leveling sealant is starting to lift up or become degraded in any way.\n",
      "confidence score: 0.8646954644862274\n",
      "step transition: [6848 7093]\n",
      "step transition in headlines: Stabilize the driveshaft in a vise. Apply this sealant along the cracked or potential pin holed area that you have just cleaned from any dirt and grime.\n",
      "confidence score: 0.8655074107270825\n",
      "step transition: [6848 9266]\n",
      "step transition in headlines: Stabilize the driveshaft in a vise. Crack all the grains (Meaning should lightly grind up in coffee grinder, or roll over with a heavy rolling pin while in sleeve).\n",
      "confidence score: 0.8718197986794568\n",
      "step transition: [7090 2233]\n",
      "step transition in headlines: Inspect the clean roof for cracks along the edges of the EPDM barrier where the self leveling sealant is starting to lift up or become degraded in any way. Take apart the inner metal casing.\n",
      "confidence score: 0.8813100298897201\n",
      "step transition: [7090 3668]\n",
      "step transition in headlines: Inspect the clean roof for cracks along the edges of the EPDM barrier where the self leveling sealant is starting to lift up or become degraded in any way. Disassemble the fork.\n",
      "confidence score: 0.8812082212283219\n",
      "step transition: [7090 4353]\n",
      "step transition in headlines: Inspect the clean roof for cracks along the edges of the EPDM barrier where the self leveling sealant is starting to lift up or become degraded in any way. Lift the 2 assembly pieces apart.\n",
      "confidence score: 0.8870563948754472\n",
      "step transition: [7093 2233]\n",
      "step transition in headlines: Apply this sealant along the cracked or potential pin holed area that you have just cleaned from any dirt and grime. Take apart the inner metal casing.\n",
      "confidence score: 0.8821219761305753\n",
      "step transition: [7093 3668]\n",
      "step transition in headlines: Apply this sealant along the cracked or potential pin holed area that you have just cleaned from any dirt and grime. Disassemble the fork.\n",
      "confidence score: 0.882020167469177\n",
      "step transition: [7093 4353]\n",
      "step transition in headlines: Apply this sealant along the cracked or potential pin holed area that you have just cleaned from any dirt and grime. Lift the 2 assembly pieces apart.\n",
      "confidence score: 0.8878683411163024\n",
      "step transition: [7569 3599]\n",
      "step transition in headlines: Fill the gas tank with the correct fuel/oil mixture, which is typically one gallon of gasoline with 4 to 6 ounces of two cycle engine oil. Make a nesting box out of a kitchen cabinet.\n",
      "confidence score: 0.9909822006990342\n",
      "step transition: [7569 5626]\n",
      "step transition in headlines: Fill the gas tank with the correct fuel/oil mixture, which is typically one gallon of gasoline with 4 to 6 ounces of two cycle engine oil. Remove the contents of the kitchen cabinet.\n",
      "confidence score: 0.9893791264545989\n",
      "step transition: [7569 5630]\n",
      "step transition in headlines: Fill the gas tank with the correct fuel/oil mixture, which is typically one gallon of gasoline with 4 to 6 ounces of two cycle engine oil. Place the drawer with slides into the kitchen cabinet to be sure it is the correct size.\n",
      "confidence score: 0.9887299113446985\n",
      "step transition: [8084 1498]\n",
      "step transition in headlines: Consider hiring a home inspector before scheduling the appraisal. Clean the hub, outer bearing and inner bearing with parts cleaner or a brush and pan of kerosene or gasoline.\n",
      "confidence score: 0.9173360628798078\n",
      "step transition: [8084 7569]\n",
      "step transition in headlines: Consider hiring a home inspector before scheduling the appraisal. Fill the gas tank with the correct fuel/oil mixture, which is typically one gallon of gasoline with 4 to 6 ounces of two cycle engine oil.\n",
      "confidence score: 0.9173671645370309\n",
      "step transition: [ 8084 10494]\n",
      "step transition in headlines: Consider hiring a home inspector before scheduling the appraisal. Add gasoline (petrol) to the ethanol (optional).\n",
      "confidence score: 0.9263849638379966\n",
      "step transition: [9266 2233]\n",
      "step transition in headlines: Crack all the grains (Meaning should lightly grind up in coffee grinder, or roll over with a heavy rolling pin while in sleeve). Take apart the inner metal casing.\n",
      "confidence score: 0.8884343640829497\n",
      "step transition: [9266 3668]\n",
      "step transition in headlines: Crack all the grains (Meaning should lightly grind up in coffee grinder, or roll over with a heavy rolling pin while in sleeve). Disassemble the fork.\n",
      "confidence score: 0.8883325554215513\n",
      "step transition: [9266 4353]\n",
      "step transition in headlines: Crack all the grains (Meaning should lightly grind up in coffee grinder, or roll over with a heavy rolling pin while in sleeve). Lift the 2 assembly pieces apart.\n",
      "confidence score: 0.8941807290686766\n",
      "step transition: [10351  1498]\n",
      "step transition in headlines: Use crimp/splice connectors, from the hardware store, to splice the wires in the harness to the matching wires in the wiring kit. Clean the hub, outer bearing and inner bearing with parts cleaner or a brush and pan of kerosene or gasoline.\n",
      "confidence score: 0.9188493953161327\n",
      "step transition: [10351  7569]\n",
      "step transition in headlines: Use crimp/splice connectors, from the hardware store, to splice the wires in the harness to the matching wires in the wiring kit. Fill the gas tank with the correct fuel/oil mixture, which is typically one gallon of gasoline with 4 to 6 ounces of two cycle engine oil.\n",
      "confidence score: 0.9188804969733557\n",
      "step transition: [10351 10494]\n",
      "step transition in headlines: Use crimp/splice connectors, from the hardware store, to splice the wires in the harness to the matching wires in the wiring kit. Add gasoline (petrol) to the ethanol (optional).\n",
      "confidence score: 0.9278982962743216\n",
      "step transition: [10494  3599]\n",
      "step transition in headlines: Add gasoline (petrol) to the ethanol (optional). Make a nesting box out of a kitchen cabinet.\n",
      "confidence score: 1.0\n",
      "step transition: [10494  5626]\n",
      "step transition in headlines: Add gasoline (petrol) to the ethanol (optional). Remove the contents of the kitchen cabinet.\n",
      "confidence score: 0.9983969257555648\n",
      "step transition: [10494  5630]\n",
      "step transition in headlines: Add gasoline (petrol) to the ethanol (optional). Place the drawer with slides into the kitchen cabinet to be sure it is the correct size.\n",
      "confidence score: 0.9977477106456644\n"
     ]
    }
   ],
   "source": [
    "G_howto100m_step_trans = np.argwhere(G_howto100m>0)\n",
    "index = np.nonzero(G_howto100m)\n",
    "G_howoto100m_conf = G_howto100m[index]\n",
    "\n",
    "\n",
    "for conf, formed_edge_in_steps in zip(G_howoto100m_conf, G_howto100m_step_trans):\n",
    "    print('step transition:', formed_edge_in_steps)\n",
    "    print('step transition in headlines:', step_id_to_headline[formed_edge_in_steps[0]], step_id_to_headline[formed_edge_in_steps[1]])\n",
    "    print('confidence score:', conf)"
   ]
  },
  {
   "cell_type": "code",
   "execution_count": null,
   "metadata": {},
   "outputs": [],
   "source": [
    "# how to find videoid2stepid, having this would be helpful to find a step sequence based on the start of a given video id\n",
    "# maybe not set threshold on PKG edge transition"
   ]
  }
 ],
 "metadata": {
  "kernelspec": {
   "display_name": "paprika",
   "language": "python",
   "name": "paprika"
  },
  "language_info": {
   "codemirror_mode": {
    "name": "ipython",
    "version": 3
   },
   "file_extension": ".py",
   "mimetype": "text/x-python",
   "name": "python",
   "nbconvert_exporter": "python",
   "pygments_lexer": "ipython3",
   "version": "3.8.17"
  },
  "toc": {
   "base_numbering": 1,
   "nav_menu": {},
   "number_sections": true,
   "sideBar": true,
   "skip_h1_title": false,
   "title_cell": "Table of Contents",
   "title_sidebar": "Contents",
   "toc_cell": false,
   "toc_position": {
    "height": "calc(100% - 180px)",
    "left": "10px",
    "top": "150px",
    "width": "193.704px"
   },
   "toc_section_display": true,
   "toc_window_display": true
  }
 },
 "nbformat": 4,
 "nbformat_minor": 4
}
